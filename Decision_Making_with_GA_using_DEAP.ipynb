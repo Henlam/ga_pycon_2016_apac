{
 "cells": [
  {
   "cell_type": "code",
   "execution_count": null,
   "metadata": {
    "collapsed": true
   },
   "outputs": [],
   "source": []
  },
  {
   "cell_type": "markdown",
   "metadata": {},
   "source": [
    "<hr style=\"border-color:#ff9900\"> \n",
    "## _Practice 1 : _\n",
    "# Basic Genetic Algorithm\n",
    "<hr style=\"border-color:#ff9900\"> "
   ]
  },
  {
   "cell_type": "code",
   "execution_count": null,
   "metadata": {
    "collapsed": true
   },
   "outputs": [],
   "source": []
  },
  {
   "cell_type": "code",
   "execution_count": 97,
   "metadata": {
    "collapsed": false
   },
   "outputs": [
    {
     "data": {
      "text/plain": [
       "(100, 100)"
      ]
     },
     "execution_count": 97,
     "metadata": {},
     "output_type": "execute_result"
    }
   ],
   "source": [
    "# Here are 5 numbers when added, we get a hundred.\n",
    "list1 = [100, 0, 0, 0, 0]\n",
    "list2 = [20, 21, 19, 15, 25]\n",
    "(sum(list1), sum(list2))"
   ]
  },
  {
   "cell_type": "markdown",
   "metadata": {},
   "source": [
    "- These 5 numbers in combination make a hundred in sum.\n",
    "- Let’s find the those combination of 5 numbers using GA."
   ]
  },
  {
   "cell_type": "code",
   "execution_count": null,
   "metadata": {
    "collapsed": true
   },
   "outputs": [],
   "source": []
  },
  {
   "cell_type": "markdown",
   "metadata": {},
   "source": [
    "## Setting Things Up"
   ]
  },
  {
   "cell_type": "code",
   "execution_count": 98,
   "metadata": {
    "collapsed": true
   },
   "outputs": [],
   "source": [
    "import random\n",
    "import numpy as np\n",
    "from deap import algorithms, base, creator, tools"
   ]
  },
  {
   "cell_type": "markdown",
   "metadata": {},
   "source": [
    "### Creator\n",
    "- Meta-factory allowing the run-time creation of classes via both inheritance and composition.\n",
    "- Attributes, both data and functions, can be dynamically added to existing classes in order to create user-specific new types.\n",
    "- By using this, the creation of individuals and populations from any data structure ( list, set, dictionary, tree, etc… )"
   ]
  },
  {
   "cell_type": "code",
   "execution_count": 76,
   "metadata": {
    "collapsed": false
   },
   "outputs": [
    {
     "name": "stderr",
     "output_type": "stream",
     "text": [
      "/Library/Frameworks/Python.framework/Versions/3.5/lib/python3.5/site-packages/deap/creator.py:141: RuntimeWarning: A class named 'FitnessMin' has already been created and it will be overwritten. Consider deleting previous creation of that class or rename it.\n",
      "  RuntimeWarning)\n",
      "/Library/Frameworks/Python.framework/Versions/3.5/lib/python3.5/site-packages/deap/creator.py:141: RuntimeWarning: A class named 'Individual' has already been created and it will be overwritten. Consider deleting previous creation of that class or rename it.\n",
      "  RuntimeWarning)\n"
     ]
    }
   ],
   "source": [
    "# Creates a new class named \"FitnessMin\" inheriting from \"base.Fitness\" with attrebute \"weights=(-1.0,)\"\n",
    "# The fitness is a measure of quality of a solution.\n",
    "creator.create(\"FitnessMin\", base.Fitness, weights=(-1.0,)) # -1 -> minimum problem\n",
    "creator.create(\"Individual\", list, fitness=creator.FitnessMin)"
   ]
  },
  {
   "cell_type": "markdown",
   "metadata": {},
   "source": [
    "### Toolbox\n",
    "- Container for the tools (operators) that the user wants to use.\n",
    "- Manually populated by the user with selected tools."
   ]
  },
  {
   "cell_type": "code",
   "execution_count": 83,
   "metadata": {
    "collapsed": true
   },
   "outputs": [],
   "source": [
    "toolbox = base.Toolbox()"
   ]
  },
  {
   "cell_type": "code",
   "execution_count": 100,
   "metadata": {
    "collapsed": false
   },
   "outputs": [
    {
     "data": {
      "text/plain": [
       "80"
      ]
     },
     "execution_count": 100,
     "metadata": {},
     "output_type": "execute_result"
    }
   ],
   "source": [
    "random.randint(0,100) # get random number between 0~100"
   ]
  },
  {
   "cell_type": "code",
   "execution_count": 89,
   "metadata": {
    "collapsed": false
   },
   "outputs": [],
   "source": [
    "# Attribute generator \n",
    "toolbox.register(\"attr_bool\", random.randint, 0, 100)"
   ]
  },
  {
   "cell_type": "code",
   "execution_count": 108,
   "metadata": {
    "collapsed": false
   },
   "outputs": [
    {
     "data": {
      "text/plain": [
       "9"
      ]
     },
     "execution_count": 108,
     "metadata": {},
     "output_type": "execute_result"
    }
   ],
   "source": [
    "toolbox.attr_bool() "
   ]
  },
  {
   "cell_type": "code",
   "execution_count": 109,
   "metadata": {
    "collapsed": false
   },
   "outputs": [],
   "source": [
    "# Structure initializers\n",
    "toolbox.register(\"individual\", tools.initRepeat, creator.Individual, toolbox.attr_bool, 5)\n",
    "toolbox.register(\"population\", tools.initRepeat, list, toolbox.individual)"
   ]
  },
  {
   "cell_type": "code",
   "execution_count": 110,
   "metadata": {
    "collapsed": false
   },
   "outputs": [
    {
     "data": {
      "text/plain": [
       "[36, 50, 99, 28, 39]"
      ]
     },
     "execution_count": 110,
     "metadata": {},
     "output_type": "execute_result"
    }
   ],
   "source": [
    "toolbox.individual()"
   ]
  },
  {
   "cell_type": "code",
   "execution_count": 6,
   "metadata": {
    "collapsed": false
   },
   "outputs": [
    {
     "data": {
      "text/plain": [
       "[[61, 79, 8, 19, 100],\n",
       " [14, 37, 52, 16, 67],\n",
       " [19, 31, 63, 81, 29],\n",
       " [42, 46, 3, 14, 81],\n",
       " [12, 97, 12, 23, 92],\n",
       " [81, 19, 97, 26, 1],\n",
       " [20, 72, 50, 56, 81],\n",
       " [77, 78, 6, 9, 90],\n",
       " [63, 27, 60, 44, 42],\n",
       " [62, 93, 93, 92, 84]]"
      ]
     },
     "execution_count": 6,
     "metadata": {},
     "output_type": "execute_result"
    }
   ],
   "source": [
    "toolbox.population(n=10)"
   ]
  },
  {
   "cell_type": "markdown",
   "metadata": {},
   "source": [
    "## The Evaluation Function\n",
    "- objective function : the function built for our problem"
   ]
  },
  {
   "cell_type": "code",
   "execution_count": 111,
   "metadata": {
    "collapsed": true
   },
   "outputs": [],
   "source": [
    "def sum_error(individual):\n",
    "    return abs(100-sum(individual)),"
   ]
  },
  {
   "cell_type": "code",
   "execution_count": null,
   "metadata": {
    "collapsed": true
   },
   "outputs": [],
   "source": []
  },
  {
   "cell_type": "code",
   "execution_count": 112,
   "metadata": {
    "collapsed": false
   },
   "outputs": [
    {
     "data": {
      "text/plain": [
       "[64, 38, 92, 84, 96]"
      ]
     },
     "execution_count": 112,
     "metadata": {},
     "output_type": "execute_result"
    }
   ],
   "source": [
    "# smaple individual\n",
    "ind = toolbox.individual()\n",
    "ind"
   ]
  },
  {
   "cell_type": "code",
   "execution_count": 113,
   "metadata": {
    "collapsed": false
   },
   "outputs": [
    {
     "data": {
      "text/plain": [
       "(274,)"
      ]
     },
     "execution_count": 113,
     "metadata": {},
     "output_type": "execute_result"
    }
   ],
   "source": [
    "sum_error(ind)"
   ]
  },
  {
   "cell_type": "markdown",
   "metadata": {},
   "source": [
    "## The Genetic Operators\n",
    "- Operators are just like initializers, except that some are already implemented in the [tools](http://deap.readthedocs.io/en/master/api/tools.html#module-deap.tools) module. \n",
    "- __Once you’ve chosen the perfect ones, simply register them in the toolbox.__"
   ]
  },
  {
   "cell_type": "code",
   "execution_count": 187,
   "metadata": {
    "collapsed": false
   },
   "outputs": [],
   "source": [
    "toolbox.register(\"evaluate\", sum_error)"
   ]
  },
  {
   "cell_type": "code",
   "execution_count": 188,
   "metadata": {
    "collapsed": true
   },
   "outputs": [],
   "source": [
    "toolbox.register(\"mate\", tools.cxTwoPoint)\n",
    "toolbox.register(\"mutate\", tools.mutUniformInt, low=0, up=100, indpb=0.2) # Independent probability  : for each attribute to be mutated.# low~up rondom int\n",
    "toolbox.register(\"select\", tools.selTournament, tournsize=3)"
   ]
  },
  {
   "cell_type": "code",
   "execution_count": null,
   "metadata": {
    "collapsed": true
   },
   "outputs": [],
   "source": []
  },
  {
   "cell_type": "code",
   "execution_count": null,
   "metadata": {
    "collapsed": true
   },
   "outputs": [],
   "source": []
  },
  {
   "cell_type": "markdown",
   "metadata": {},
   "source": [
    "## Evolving the Population"
   ]
  },
  {
   "cell_type": "markdown",
   "metadata": {},
   "source": [
    "### Creating the Population"
   ]
  },
  {
   "cell_type": "code",
   "execution_count": 189,
   "metadata": {
    "collapsed": false,
    "scrolled": true
   },
   "outputs": [
    {
     "data": {
      "text/plain": [
       "[[56, 21, 17, 8, 55],\n",
       " [27, 46, 53, 25, 15],\n",
       " [45, 6, 34, 10, 61],\n",
       " [71, 43, 55, 37, 6],\n",
       " [18, 35, 68, 10, 29],\n",
       " [15, 27, 5, 31, 47],\n",
       " [66, 26, 73, 69, 11],\n",
       " [33, 24, 44, 11, 57],\n",
       " [3, 60, 42, 53, 63],\n",
       " [18, 47, 46, 42, 5],\n",
       " [6, 32, 26, 39, 18],\n",
       " [0, 44, 71, 58, 52],\n",
       " [15, 59, 28, 25, 64],\n",
       " [42, 62, 20, 29, 25],\n",
       " [67, 57, 10, 27, 33],\n",
       " [44, 61, 14, 21, 36],\n",
       " [55, 27, 20, 36, 64],\n",
       " [38, 56, 61, 40, 65],\n",
       " [31, 73, 16, 60, 23],\n",
       " [22, 68, 38, 47, 13],\n",
       " [0, 63, 32, 64, 52],\n",
       " [38, 43, 45, 7, 39],\n",
       " [22, 66, 41, 18, 62],\n",
       " [50, 10, 2, 29, 44],\n",
       " [41, 64, 37, 27, 71],\n",
       " [12, 66, 48, 13, 36],\n",
       " [38, 61, 2, 71, 15],\n",
       " [45, 16, 64, 27, 47],\n",
       " [45, 35, 47, 69, 63],\n",
       " [55, 71, 41, 59, 3],\n",
       " [55, 0, 70, 65, 53],\n",
       " [14, 21, 68, 44, 69],\n",
       " [37, 67, 32, 12, 45],\n",
       " [18, 25, 66, 38, 34],\n",
       " [55, 35, 19, 18, 74],\n",
       " [64, 4, 65, 28, 72],\n",
       " [51, 56, 64, 19, 68],\n",
       " [33, 4, 12, 50, 66],\n",
       " [42, 28, 49, 73, 4],\n",
       " [73, 16, 62, 71, 7],\n",
       " [1, 73, 42, 44, 27],\n",
       " [3, 17, 0, 59, 23],\n",
       " [56, 31, 57, 74, 9],\n",
       " [54, 53, 11, 39, 0],\n",
       " [22, 56, 68, 47, 32],\n",
       " [51, 35, 36, 8, 10],\n",
       " [56, 52, 41, 26, 71],\n",
       " [63, 15, 19, 66, 1],\n",
       " [61, 7, 48, 13, 45],\n",
       " [35, 9, 47, 13, 59],\n",
       " [11, 71, 73, 9, 67],\n",
       " [71, 67, 31, 29, 5],\n",
       " [50, 52, 7, 39, 29],\n",
       " [68, 29, 36, 70, 53],\n",
       " [21, 9, 19, 41, 13],\n",
       " [40, 4, 46, 64, 47],\n",
       " [14, 67, 68, 46, 71],\n",
       " [22, 35, 52, 0, 55],\n",
       " [9, 37, 67, 30, 27],\n",
       " [68, 65, 69, 13, 26],\n",
       " [58, 43, 11, 53, 39],\n",
       " [9, 39, 18, 42, 33],\n",
       " [25, 73, 11, 35, 36],\n",
       " [30, 65, 47, 71, 48],\n",
       " [61, 30, 44, 66, 15],\n",
       " [61, 66, 54, 48, 22],\n",
       " [74, 67, 38, 58, 71],\n",
       " [20, 54, 5, 1, 58],\n",
       " [70, 4, 41, 59, 43],\n",
       " [63, 55, 65, 58, 31],\n",
       " [70, 26, 1, 53, 37],\n",
       " [0, 58, 45, 34, 69],\n",
       " [57, 32, 17, 15, 56],\n",
       " [21, 74, 63, 27, 29],\n",
       " [68, 50, 70, 36, 58],\n",
       " [51, 43, 62, 6, 42],\n",
       " [69, 66, 4, 14, 18],\n",
       " [59, 69, 52, 71, 23],\n",
       " [34, 52, 27, 45, 62],\n",
       " [15, 44, 72, 62, 66],\n",
       " [61, 22, 46, 56, 39],\n",
       " [32, 57, 5, 41, 0],\n",
       " [19, 0, 47, 12, 36],\n",
       " [29, 1, 68, 13, 25],\n",
       " [20, 65, 59, 50, 64],\n",
       " [59, 6, 32, 28, 54],\n",
       " [43, 45, 35, 48, 47],\n",
       " [1, 43, 47, 70, 46],\n",
       " [68, 28, 51, 0, 23],\n",
       " [14, 50, 60, 69, 66],\n",
       " [64, 5, 17, 13, 47],\n",
       " [72, 43, 30, 1, 15],\n",
       " [35, 24, 57, 1, 51],\n",
       " [54, 49, 13, 62, 48],\n",
       " [35, 64, 53, 3, 72],\n",
       " [24, 55, 49, 21, 70],\n",
       " [15, 30, 1, 34, 72],\n",
       " [39, 16, 0, 9, 44],\n",
       " [8, 42, 62, 40, 7],\n",
       " [46, 19, 43, 66, 24]]"
      ]
     },
     "execution_count": 189,
     "metadata": {},
     "output_type": "execute_result"
    }
   ],
   "source": [
    "pop = toolbox.population(n=100)\n",
    "pop"
   ]
  },
  {
   "cell_type": "markdown",
   "metadata": {},
   "source": [
    "### The Appeal of Evolution"
   ]
  },
  {
   "cell_type": "code",
   "execution_count": 190,
   "metadata": {
    "collapsed": true
   },
   "outputs": [],
   "source": [
    "# Use of a HallOfFame in order to keep track of the best individual to appear in the evolution \n",
    "# (it keeps it even in the case it extinguishes)\n",
    "hof = tools.HallOfFame(1)"
   ]
  },
  {
   "cell_type": "code",
   "execution_count": 191,
   "metadata": {
    "collapsed": true
   },
   "outputs": [],
   "source": [
    "stats = tools.Statistics(lambda ind: ind.fitness.values)\n",
    "stats.register(\"avg\", np.mean)\n",
    "stats.register(\"std\", np.std)\n",
    "stats.register(\"min\", np.min)\n",
    "stats.register(\"max\", np.max)"
   ]
  },
  {
   "cell_type": "code",
   "execution_count": 193,
   "metadata": {
    "collapsed": false
   },
   "outputs": [
    {
     "name": "stdout",
     "output_type": "stream",
     "text": [
      "gen\tnevals\tavg\tstd    \tmin\tmax\n",
      "0  \t0     \t5  \t18.2225\t0  \t112\n",
      "1  \t60    \t6.94\t19.9704\t0  \t112\n",
      "2  \t62    \t3.87\t14.4109\t0  \t90 \n",
      "3  \t64    \t5.4 \t16.9812\t0  \t83 \n",
      "4  \t66    \t8.23\t22.4245\t0  \t139\n",
      "5  \t62    \t6.04\t19.6657\t0  \t118\n",
      "6  \t55    \t4.35\t15.5983\t0  \t84 \n",
      "7  \t59    \t3.13\t10.4294\t0  \t71 \n",
      "8  \t62    \t5.08\t15.9529\t0  \t81 \n",
      "9  \t57    \t6.73\t22.0127\t0  \t116\n",
      "10 \t53    \t8.48\t26.2349\t0  \t203\n",
      "11 \t65    \t10.72\t31.5877\t0  \t216\n",
      "12 \t53    \t5.18 \t20.6089\t0  \t137\n",
      "13 \t58    \t5.65 \t18.9533\t0  \t96 \n",
      "14 \t65    \t7.1  \t21.4385\t0  \t130\n",
      "15 \t67    \t6.85 \t23.8811\t0  \t153\n",
      "16 \t65    \t7.06 \t21.5304\t0  \t113\n",
      "17 \t60    \t4.78 \t16.1236\t0  \t103\n",
      "18 \t63    \t5.96 \t20.4171\t0  \t151\n",
      "19 \t58    \t5.96 \t20.6339\t0  \t112\n",
      "20 \t50    \t4.26 \t19.1982\t0  \t142\n",
      "21 \t66    \t9.56 \t24.7715\t0  \t108\n",
      "22 \t60    \t4    \t14.9953\t0  \t94 \n",
      "23 \t58    \t4.55 \t17.9345\t0  \t121\n",
      "24 \t56    \t6.14 \t17.8858\t0  \t87 \n",
      "25 \t47    \t7.99 \t27.7851\t0  \t193\n",
      "26 \t63    \t6.45 \t18.0806\t0  \t123\n",
      "27 \t61    \t7.91 \t23.4039\t0  \t132\n",
      "28 \t50    \t5.96 \t17.3487\t0  \t79 \n",
      "29 \t66    \t9.08 \t25.5353\t0  \t141\n",
      "30 \t49    \t7.66 \t22.554 \t0  \t138\n",
      "31 \t56    \t6.14 \t24.9532\t0  \t198\n",
      "32 \t71    \t6.61 \t17.5259\t0  \t90 \n",
      "33 \t50    \t6.72 \t29.8553\t0  \t227\n",
      "34 \t63    \t5.05 \t20.1942\t0  \t156\n",
      "35 \t54    \t8.7  \t23.892 \t0  \t110\n",
      "36 \t50    \t5.66 \t19.5265\t0  \t115\n",
      "37 \t66    \t5.08 \t17.0139\t0  \t92 \n",
      "38 \t52    \t6.84 \t21.8672\t0  \t130\n",
      "39 \t62    \t6.51 \t21.0502\t0  \t116\n",
      "40 \t66    \t4.98 \t18.8128\t0  \t107\n"
     ]
    }
   ],
   "source": [
    "# algorithms : contains useful implements some basic GA\n",
    "pop, log = algorithms.eaSimple(pop, toolbox, cxpb=0.5, mutpb=0.2, ngen=40, stats=stats, halloffame=hof, verbose=True)"
   ]
  },
  {
   "cell_type": "code",
   "execution_count": 194,
   "metadata": {
    "collapsed": false,
    "scrolled": true
   },
   "outputs": [
    {
     "data": {
      "text/plain": [
       "[100,\n",
       " 100,\n",
       " 100,\n",
       " 100,\n",
       " 100,\n",
       " 100,\n",
       " 100,\n",
       " 105,\n",
       " 100,\n",
       " 195,\n",
       " 100,\n",
       " 100,\n",
       " 100,\n",
       " 119,\n",
       " 100,\n",
       " 100,\n",
       " 100,\n",
       " 100,\n",
       " 100,\n",
       " 100,\n",
       " 141,\n",
       " 100,\n",
       " 100,\n",
       " 100,\n",
       " 100,\n",
       " 207,\n",
       " 100,\n",
       " 100,\n",
       " 100,\n",
       " 72,\n",
       " 100,\n",
       " 100,\n",
       " 100,\n",
       " 96,\n",
       " 100,\n",
       " 100,\n",
       " 100,\n",
       " 100,\n",
       " 100,\n",
       " 100,\n",
       " 100,\n",
       " 100,\n",
       " 100,\n",
       " 100,\n",
       " 100,\n",
       " 100,\n",
       " 100,\n",
       " 100,\n",
       " 100,\n",
       " 100,\n",
       " 100,\n",
       " 100,\n",
       " 100,\n",
       " 100,\n",
       " 100,\n",
       " 100,\n",
       " 100,\n",
       " 100,\n",
       " 100,\n",
       " 100,\n",
       " 100,\n",
       " 100,\n",
       " 100,\n",
       " 100,\n",
       " 100,\n",
       " 100,\n",
       " 100,\n",
       " 100,\n",
       " 100,\n",
       " 100,\n",
       " 100,\n",
       " 100,\n",
       " 100,\n",
       " 100,\n",
       " 100,\n",
       " 100,\n",
       " 100,\n",
       " 100,\n",
       " 100,\n",
       " 100,\n",
       " 145,\n",
       " 100,\n",
       " 159,\n",
       " 100,\n",
       " 100,\n",
       " 100,\n",
       " 100,\n",
       " 100,\n",
       " 100,\n",
       " 100,\n",
       " 100,\n",
       " 100,\n",
       " 100,\n",
       " 195,\n",
       " 100,\n",
       " 100,\n",
       " 100,\n",
       " 100,\n",
       " 100,\n",
       " 100]"
      ]
     },
     "execution_count": 194,
     "metadata": {},
     "output_type": "execute_result"
    }
   ],
   "source": [
    "[sum(ind) for ind in pop]"
   ]
  },
  {
   "cell_type": "code",
   "execution_count": 195,
   "metadata": {
    "collapsed": false,
    "scrolled": true
   },
   "outputs": [
    {
     "data": {
      "text/plain": [
       "[[9, 39, 18, 1, 33],\n",
       " [9, 39, 18, 1, 33],\n",
       " [9, 39, 18, 1, 33],\n",
       " [9, 39, 18, 1, 33],\n",
       " [9, 39, 18, 1, 33]]"
      ]
     },
     "execution_count": 195,
     "metadata": {},
     "output_type": "execute_result"
    }
   ],
   "source": [
    "tools.selBest(pop, k=5)"
   ]
  },
  {
   "cell_type": "code",
   "execution_count": null,
   "metadata": {
    "collapsed": true
   },
   "outputs": [],
   "source": []
  },
  {
   "cell_type": "code",
   "execution_count": null,
   "metadata": {
    "collapsed": true
   },
   "outputs": [],
   "source": []
  },
  {
   "cell_type": "code",
   "execution_count": null,
   "metadata": {
    "collapsed": true
   },
   "outputs": [],
   "source": []
  },
  {
   "cell_type": "markdown",
   "metadata": {},
   "source": [
    "<hr style=\"border-color:#ff9900\"> \n",
    "## _Practice 2 : _\n",
    "# Find the Best Tour Route using NSGA-ii\n",
    "<hr style=\"border-color:#ff9900\"> "
   ]
  },
  {
   "cell_type": "markdown",
   "metadata": {},
   "source": [
    "# Preparing Data for GA"
   ]
  },
  {
   "cell_type": "markdown",
   "metadata": {},
   "source": [
    "- Data from [Seoul data portal](http://data.seoul.go.kr/openinf/sheetview.jsp?infId=OA-12929&tMenu=11)"
   ]
  },
  {
   "cell_type": "markdown",
   "metadata": {},
   "source": [
    "## Load Data"
   ]
  },
  {
   "cell_type": "code",
   "execution_count": 320,
   "metadata": {
    "collapsed": true
   },
   "outputs": [],
   "source": [
    "import pandas as pd\n",
    "import numpy as np\n",
    "\n",
    "# 거리계산\n",
    "from math import radians, cos, sin, asin, sqrt \n",
    "\n",
    "# Geo data viz\n",
    "import folium"
   ]
  },
  {
   "cell_type": "code",
   "execution_count": 321,
   "metadata": {
    "collapsed": false
   },
   "outputs": [],
   "source": [
    "df_spot = pd.read_csv(\"seoul_street.csv\")"
   ]
  },
  {
   "cell_type": "code",
   "execution_count": 322,
   "metadata": {
    "collapsed": false,
    "scrolled": true
   },
   "outputs": [
    {
     "data": {
      "text/html": [
       "<div>\n",
       "<table border=\"1\" class=\"dataframe\">\n",
       "  <thead>\n",
       "    <tr style=\"text-align: right;\">\n",
       "      <th></th>\n",
       "      <th>street_ko</th>\n",
       "      <th>street_en</th>\n",
       "      <th>address</th>\n",
       "      <th>dong_ko</th>\n",
       "      <th>dong_en</th>\n",
       "      <th>lng</th>\n",
       "      <th>lat</th>\n",
       "      <th>score</th>\n",
       "    </tr>\n",
       "  </thead>\n",
       "  <tbody>\n",
       "    <tr>\n",
       "      <th>0</th>\n",
       "      <td>남대문거리</td>\n",
       "      <td>fishing-tackle street</td>\n",
       "      <td>서울시 중구 회현동 일대</td>\n",
       "      <td>회현동</td>\n",
       "      <td>Hoehyeon-dong</td>\n",
       "      <td>126.977432</td>\n",
       "      <td>37.558050</td>\n",
       "      <td>80</td>\n",
       "    </tr>\n",
       "    <tr>\n",
       "      <th>1</th>\n",
       "      <td>왕십리곱창골목</td>\n",
       "      <td>Wangsimni Gopchang Alley</td>\n",
       "      <td>서울시 중구 황학동 일대</td>\n",
       "      <td>황학동</td>\n",
       "      <td>Hwanghak-dong</td>\n",
       "      <td>127.020434</td>\n",
       "      <td>37.568610</td>\n",
       "      <td>68</td>\n",
       "    </tr>\n",
       "    <tr>\n",
       "      <th>2</th>\n",
       "      <td>남산공원북측순환도로</td>\n",
       "      <td>The north side of Ring-Road</td>\n",
       "      <td>서울시 중구 필동 일대</td>\n",
       "      <td>필동</td>\n",
       "      <td>Gwanghui-dong</td>\n",
       "      <td>126.995925</td>\n",
       "      <td>37.561350</td>\n",
       "      <td>55</td>\n",
       "    </tr>\n",
       "    <tr>\n",
       "      <th>3</th>\n",
       "      <td>장충단길</td>\n",
       "      <td>Jangchungdan-gil</td>\n",
       "      <td>서울시 중구 장충동 일대</td>\n",
       "      <td>장충동</td>\n",
       "      <td>Pil-dong</td>\n",
       "      <td>127.000575</td>\n",
       "      <td>37.561386</td>\n",
       "      <td>87</td>\n",
       "    </tr>\n",
       "    <tr>\n",
       "      <th>4</th>\n",
       "      <td>초동길</td>\n",
       "      <td>Chodong-gil</td>\n",
       "      <td>서울시 중구 을지로동 일대</td>\n",
       "      <td>을지로동</td>\n",
       "      <td>Euljiro-dong</td>\n",
       "      <td>126.997646</td>\n",
       "      <td>37.566410</td>\n",
       "      <td>4</td>\n",
       "    </tr>\n",
       "    <tr>\n",
       "      <th>5</th>\n",
       "      <td>신당동떡볶이골목</td>\n",
       "      <td>Topokki alley</td>\n",
       "      <td>서울시 중구 신당동 일대</td>\n",
       "      <td>신당동</td>\n",
       "      <td>Cheonggu-dong</td>\n",
       "      <td>127.013160</td>\n",
       "      <td>37.557255</td>\n",
       "      <td>41</td>\n",
       "    </tr>\n",
       "    <tr>\n",
       "      <th>6</th>\n",
       "      <td>돌담길</td>\n",
       "      <td>Doldam-gil</td>\n",
       "      <td>서울시 중구 소공동 일대</td>\n",
       "      <td>소공동</td>\n",
       "      <td>Sogong-dong</td>\n",
       "      <td>126.979934</td>\n",
       "      <td>37.564130</td>\n",
       "      <td>34</td>\n",
       "    </tr>\n",
       "    <tr>\n",
       "      <th>7</th>\n",
       "      <td>명동거리</td>\n",
       "      <td>Myeong-dong street</td>\n",
       "      <td>서울시 중구 명동 일대</td>\n",
       "      <td>명동</td>\n",
       "      <td>Myeong-dong</td>\n",
       "      <td>126.978819</td>\n",
       "      <td>37.568059</td>\n",
       "      <td>97</td>\n",
       "    </tr>\n",
       "    <tr>\n",
       "      <th>8</th>\n",
       "      <td>청계천헌책방거리</td>\n",
       "      <td>Cheonggye Stream secondhand bookshop street</td>\n",
       "      <td>서울시 중구 광희동 일대</td>\n",
       "      <td>광희동</td>\n",
       "      <td>Gwanghui-dong</td>\n",
       "      <td>127.008111</td>\n",
       "      <td>37.569502</td>\n",
       "      <td>54</td>\n",
       "    </tr>\n",
       "    <tr>\n",
       "      <th>9</th>\n",
       "      <td>필리핀거리</td>\n",
       "      <td>The Philippines Street</td>\n",
       "      <td>서울시 종로구 혜화동 일대</td>\n",
       "      <td>혜화동</td>\n",
       "      <td>Jongno1.2.3.4ga-dong</td>\n",
       "      <td>126.992990</td>\n",
       "      <td>37.581990</td>\n",
       "      <td>3</td>\n",
       "    </tr>\n",
       "    <tr>\n",
       "      <th>10</th>\n",
       "      <td>북악산길산책로</td>\n",
       "      <td>Bugaksan-gil</td>\n",
       "      <td>서울시 종로구 평창동 일대</td>\n",
       "      <td>평창동</td>\n",
       "      <td>Pyeongchang-dong</td>\n",
       "      <td>126.957402</td>\n",
       "      <td>37.617896</td>\n",
       "      <td>32</td>\n",
       "    </tr>\n",
       "    <tr>\n",
       "      <th>11</th>\n",
       "      <td>청와대앞길</td>\n",
       "      <td>Cheongwadaeap-gil</td>\n",
       "      <td>서울시 종로구 청운효자동 일대</td>\n",
       "      <td>청운효자동</td>\n",
       "      <td>Cheongunhyoja-dong</td>\n",
       "      <td>126.968455</td>\n",
       "      <td>37.589673</td>\n",
       "      <td>3</td>\n",
       "    </tr>\n",
       "    <tr>\n",
       "      <th>12</th>\n",
       "      <td>동대문생선구이골목</td>\n",
       "      <td>Baked fish Alley</td>\n",
       "      <td>서울시 종로구 종로5.6가동 일대</td>\n",
       "      <td>종로5.6가동</td>\n",
       "      <td>Jongno5.6ga-dong</td>\n",
       "      <td>127.000190</td>\n",
       "      <td>37.573690</td>\n",
       "      <td>43</td>\n",
       "    </tr>\n",
       "    <tr>\n",
       "      <th>13</th>\n",
       "      <td>인사동문화마당</td>\n",
       "      <td>Insadong Culture Plaza</td>\n",
       "      <td>서울시 종로구 종로1.2.3.4가동 일대</td>\n",
       "      <td>종로1.2.3.4가동</td>\n",
       "      <td>Jongno1.2.3.4ga-dong</td>\n",
       "      <td>126.987380</td>\n",
       "      <td>37.574403</td>\n",
       "      <td>97</td>\n",
       "    </tr>\n",
       "    <tr>\n",
       "      <th>14</th>\n",
       "      <td>대학로거리</td>\n",
       "      <td>Daehak-ro street</td>\n",
       "      <td>서울시 종로구 이화동 일대</td>\n",
       "      <td>이화동</td>\n",
       "      <td>Ihwa-dong</td>\n",
       "      <td>127.005411</td>\n",
       "      <td>37.577132</td>\n",
       "      <td>99</td>\n",
       "    </tr>\n",
       "    <tr>\n",
       "      <th>15</th>\n",
       "      <td>삼청동길</td>\n",
       "      <td>Samcheongdong-gil Road</td>\n",
       "      <td>서울시 종로구 삼청동 일대</td>\n",
       "      <td>삼청동</td>\n",
       "      <td>Samcheong-dong</td>\n",
       "      <td>126.980391</td>\n",
       "      <td>37.582810</td>\n",
       "      <td>65</td>\n",
       "    </tr>\n",
       "    <tr>\n",
       "      <th>16</th>\n",
       "      <td>경복궁뒷길</td>\n",
       "      <td>Gyeongbokgung Palace back street</td>\n",
       "      <td>서울시 종로구 사직동 일대</td>\n",
       "      <td>사직동</td>\n",
       "      <td>Sajik-dong</td>\n",
       "      <td>126.972626</td>\n",
       "      <td>37.578390</td>\n",
       "      <td>63</td>\n",
       "    </tr>\n",
       "    <tr>\n",
       "      <th>17</th>\n",
       "      <td>북악산길산책로</td>\n",
       "      <td>Bugaksan-gil</td>\n",
       "      <td>서울시 종로구 부암동 일대</td>\n",
       "      <td>부암동</td>\n",
       "      <td>Buam-dong</td>\n",
       "      <td>126.964084</td>\n",
       "      <td>37.592346</td>\n",
       "      <td>56</td>\n",
       "    </tr>\n",
       "    <tr>\n",
       "      <th>18</th>\n",
       "      <td>계동길</td>\n",
       "      <td>Gyedong-gil</td>\n",
       "      <td>서울시 종로구 가회동 일대</td>\n",
       "      <td>가회동</td>\n",
       "      <td>Gahoe-dong</td>\n",
       "      <td>126.984807</td>\n",
       "      <td>37.582612</td>\n",
       "      <td>23</td>\n",
       "    </tr>\n",
       "    <tr>\n",
       "      <th>19</th>\n",
       "      <td>둘레길3구간</td>\n",
       "      <td>Dulle-gil course 3</td>\n",
       "      <td>서울시 은평구 진관동 일대</td>\n",
       "      <td>진관동</td>\n",
       "      <td>Jingwan-dong</td>\n",
       "      <td>126.934096</td>\n",
       "      <td>37.638680</td>\n",
       "      <td>16</td>\n",
       "    </tr>\n",
       "    <tr>\n",
       "      <th>20</th>\n",
       "      <td>응암동감자탕골목</td>\n",
       "      <td>Yongam Pork Back-bone Stew Alley</td>\n",
       "      <td>서울시 은평구 응암3동 일대</td>\n",
       "      <td>응암3동</td>\n",
       "      <td>Eungam3-dong</td>\n",
       "      <td>126.921704</td>\n",
       "      <td>37.592642</td>\n",
       "      <td>1</td>\n",
       "    </tr>\n",
       "    <tr>\n",
       "      <th>21</th>\n",
       "      <td>불광동먹자골목</td>\n",
       "      <td>Bulgwangdong food alley</td>\n",
       "      <td>서울시 은평구 불광1동 일대</td>\n",
       "      <td>불광1동</td>\n",
       "      <td>Bulgwang1-dong</td>\n",
       "      <td>126.935391</td>\n",
       "      <td>37.619201</td>\n",
       "      <td>21</td>\n",
       "    </tr>\n",
       "    <tr>\n",
       "      <th>22</th>\n",
       "      <td>연신내로데오거리</td>\n",
       "      <td>Rodeo Street</td>\n",
       "      <td>서울시 은평구 갈현2동 일대</td>\n",
       "      <td>갈현2동</td>\n",
       "      <td>Galhyeon2-dong</td>\n",
       "      <td>126.912916</td>\n",
       "      <td>37.620971</td>\n",
       "      <td>17</td>\n",
       "    </tr>\n",
       "    <tr>\n",
       "      <th>23</th>\n",
       "      <td>해맞이길</td>\n",
       "      <td>Haemaji-gil</td>\n",
       "      <td>서울시 용산구 한남동 일대</td>\n",
       "      <td>한남동</td>\n",
       "      <td>Hannam-dong</td>\n",
       "      <td>127.005929</td>\n",
       "      <td>37.535397</td>\n",
       "      <td>7</td>\n",
       "    </tr>\n",
       "    <tr>\n",
       "      <th>24</th>\n",
       "      <td>용산감자탕거리</td>\n",
       "      <td>Yongsan Pork Back-bone Stew Road</td>\n",
       "      <td>서울시 용산구 한강로동 일대</td>\n",
       "      <td>한강로동</td>\n",
       "      <td>Hangangno-dong</td>\n",
       "      <td>126.973064</td>\n",
       "      <td>37.531945</td>\n",
       "      <td>5</td>\n",
       "    </tr>\n",
       "    <tr>\n",
       "      <th>25</th>\n",
       "      <td>경리단길</td>\n",
       "      <td>Finance corps street</td>\n",
       "      <td>서울시 용산구 이태원2동 일대</td>\n",
       "      <td>이태원2동</td>\n",
       "      <td>Itaewon2-dong</td>\n",
       "      <td>126.991664</td>\n",
       "      <td>37.539718</td>\n",
       "      <td>99</td>\n",
       "    </tr>\n",
       "    <tr>\n",
       "      <th>26</th>\n",
       "      <td>이태원거리</td>\n",
       "      <td>Itaewon street</td>\n",
       "      <td>서울시 용산구 이태원1동 일대</td>\n",
       "      <td>이태원1동</td>\n",
       "      <td>Itaewon2-dong</td>\n",
       "      <td>126.991704</td>\n",
       "      <td>37.538994</td>\n",
       "      <td>99</td>\n",
       "    </tr>\n",
       "    <tr>\n",
       "      <th>27</th>\n",
       "      <td>여의서로</td>\n",
       "      <td>Yeouiseoro</td>\n",
       "      <td>서울시 영등포구 여의동 일대</td>\n",
       "      <td>여의동</td>\n",
       "      <td>Yeoui-dong</td>\n",
       "      <td>126.929428</td>\n",
       "      <td>37.528313</td>\n",
       "      <td>8</td>\n",
       "    </tr>\n",
       "    <tr>\n",
       "      <th>28</th>\n",
       "      <td>안양천제방벚꽃길</td>\n",
       "      <td>Anyangcheon Beotkkot-gil</td>\n",
       "      <td>서울시 영등포구 양평1동 일대</td>\n",
       "      <td>양평1동</td>\n",
       "      <td>Yangpyeong1-dong</td>\n",
       "      <td>126.888618</td>\n",
       "      <td>37.523203</td>\n",
       "      <td>16</td>\n",
       "    </tr>\n",
       "    <tr>\n",
       "      <th>29</th>\n",
       "      <td>신길동홍어거리</td>\n",
       "      <td>Skate Street</td>\n",
       "      <td>서울시 영등포구 신길4동 일대</td>\n",
       "      <td>신길4동</td>\n",
       "      <td>Singil4-dong</td>\n",
       "      <td>126.911534</td>\n",
       "      <td>37.505977</td>\n",
       "      <td>14</td>\n",
       "    </tr>\n",
       "    <tr>\n",
       "      <th>...</th>\n",
       "      <td>...</td>\n",
       "      <td>...</td>\n",
       "      <td>...</td>\n",
       "      <td>...</td>\n",
       "      <td>...</td>\n",
       "      <td>...</td>\n",
       "      <td>...</td>\n",
       "      <td>...</td>\n",
       "    </tr>\n",
       "    <tr>\n",
       "      <th>45</th>\n",
       "      <td>서래마을카페거리</td>\n",
       "      <td>Seorae Villag Cafe Street</td>\n",
       "      <td>서울시 서초구 반포4동 일대</td>\n",
       "      <td>반포4동</td>\n",
       "      <td>Banpo4-dong</td>\n",
       "      <td>127.001900</td>\n",
       "      <td>37.504695</td>\n",
       "      <td>87</td>\n",
       "    </tr>\n",
       "    <tr>\n",
       "      <th>46</th>\n",
       "      <td>신촌이대거리</td>\n",
       "      <td>Sinchon Ewha Street</td>\n",
       "      <td>서울시 서대문구 신촌동 일대</td>\n",
       "      <td>신촌동</td>\n",
       "      <td>Sinchon-dong</td>\n",
       "      <td>126.946546</td>\n",
       "      <td>37.561111</td>\n",
       "      <td>92</td>\n",
       "    </tr>\n",
       "    <tr>\n",
       "      <th>47</th>\n",
       "      <td>아현동웨딩거리</td>\n",
       "      <td>Ahyeon-dong Wedding Dress Street</td>\n",
       "      <td>서울시 서대문구 북아현동 일대</td>\n",
       "      <td>북아현동</td>\n",
       "      <td>Chunghyeon-dong</td>\n",
       "      <td>126.954554</td>\n",
       "      <td>37.563799</td>\n",
       "      <td>32</td>\n",
       "    </tr>\n",
       "    <tr>\n",
       "      <th>48</th>\n",
       "      <td>연남동차이나타운</td>\n",
       "      <td>Chinatown</td>\n",
       "      <td>서울시 마포구 연남동 일대</td>\n",
       "      <td>연남동</td>\n",
       "      <td>Yeonnam-dong</td>\n",
       "      <td>126.922346</td>\n",
       "      <td>37.563108</td>\n",
       "      <td>22</td>\n",
       "    </tr>\n",
       "    <tr>\n",
       "      <th>49</th>\n",
       "      <td>아현동전골목</td>\n",
       "      <td>Ahyeon Coin Alley</td>\n",
       "      <td>서울시 마포구 아현동 일대</td>\n",
       "      <td>아현동</td>\n",
       "      <td>Ahyeon-dong</td>\n",
       "      <td>126.956089</td>\n",
       "      <td>37.554602</td>\n",
       "      <td>33</td>\n",
       "    </tr>\n",
       "    <tr>\n",
       "      <th>50</th>\n",
       "      <td>홍대예술의거리</td>\n",
       "      <td>Hongik Univ Street of Art</td>\n",
       "      <td>서울시 마포구 서교동 일대</td>\n",
       "      <td>서교동</td>\n",
       "      <td>Daheung-dong</td>\n",
       "      <td>126.937928</td>\n",
       "      <td>37.554241</td>\n",
       "      <td>99</td>\n",
       "    </tr>\n",
       "    <tr>\n",
       "      <th>51</th>\n",
       "      <td>메타세콰이어길</td>\n",
       "      <td>Metasequoia Road</td>\n",
       "      <td>서울시 마포구 상암동 일대</td>\n",
       "      <td>상암동</td>\n",
       "      <td>Sangam-dong</td>\n",
       "      <td>126.872594</td>\n",
       "      <td>37.571498</td>\n",
       "      <td>43</td>\n",
       "    </tr>\n",
       "    <tr>\n",
       "      <th>52</th>\n",
       "      <td>현충로</td>\n",
       "      <td>Hyeonchungno</td>\n",
       "      <td>서울시 동작구 사당2동 일대</td>\n",
       "      <td>사당2동</td>\n",
       "      <td>Sadang2-dong</td>\n",
       "      <td>126.973605</td>\n",
       "      <td>37.500688</td>\n",
       "      <td>26</td>\n",
       "    </tr>\n",
       "    <tr>\n",
       "      <th>53</th>\n",
       "      <td>경희대파전골목</td>\n",
       "      <td>Kyunghee Univ pajeon Alley</td>\n",
       "      <td>서울시 동대문구 휘경1동 일대</td>\n",
       "      <td>휘경1동</td>\n",
       "      <td>Hwigyeong2-dong</td>\n",
       "      <td>127.062599</td>\n",
       "      <td>37.588832</td>\n",
       "      <td>68</td>\n",
       "    </tr>\n",
       "    <tr>\n",
       "      <th>54</th>\n",
       "      <td>홍릉길</td>\n",
       "      <td>Hongneung-gil</td>\n",
       "      <td>서울시 동대문구 청량리동 일대</td>\n",
       "      <td>청량리동</td>\n",
       "      <td>Cheongnyangni-dong</td>\n",
       "      <td>127.046390</td>\n",
       "      <td>37.588198</td>\n",
       "      <td>23</td>\n",
       "    </tr>\n",
       "    <tr>\n",
       "      <th>55</th>\n",
       "      <td>화랑로낙엽거리</td>\n",
       "      <td>Hwarangno fallen leaves street</td>\n",
       "      <td>서울시 노원구 공릉2동 일대</td>\n",
       "      <td>공릉2동</td>\n",
       "      <td>Gongneung2-dong</td>\n",
       "      <td>127.087693</td>\n",
       "      <td>37.630593</td>\n",
       "      <td>42</td>\n",
       "    </tr>\n",
       "    <tr>\n",
       "      <th>56</th>\n",
       "      <td>가리봉로데오거리</td>\n",
       "      <td>Rodeo Street</td>\n",
       "      <td>서울시 금천구 가산동 일대</td>\n",
       "      <td>가산동</td>\n",
       "      <td>Gasan-dong</td>\n",
       "      <td>126.884235</td>\n",
       "      <td>37.475038</td>\n",
       "      <td>32</td>\n",
       "    </tr>\n",
       "    <tr>\n",
       "      <th>57</th>\n",
       "      <td>가리봉동차이나타운</td>\n",
       "      <td>Chinatown</td>\n",
       "      <td>서울시 구로구 가리봉동 일대</td>\n",
       "      <td>가리봉동</td>\n",
       "      <td>Garibong-dong</td>\n",
       "      <td>126.887307</td>\n",
       "      <td>37.482833</td>\n",
       "      <td>12</td>\n",
       "    </tr>\n",
       "    <tr>\n",
       "      <th>58</th>\n",
       "      <td>건대맛의거리</td>\n",
       "      <td>Geondae taste Street</td>\n",
       "      <td>서울시 광진구 화양동 일대</td>\n",
       "      <td>화양동</td>\n",
       "      <td>Hwayang-dong</td>\n",
       "      <td>127.072736</td>\n",
       "      <td>37.543322</td>\n",
       "      <td>84</td>\n",
       "    </tr>\n",
       "    <tr>\n",
       "      <th>59</th>\n",
       "      <td>건대로데오거리</td>\n",
       "      <td>Rodeo Street</td>\n",
       "      <td>서울시 광진구 자양4동 일대</td>\n",
       "      <td>자양4동</td>\n",
       "      <td>Jayang1-dong</td>\n",
       "      <td>127.080215</td>\n",
       "      <td>37.531921</td>\n",
       "      <td>65</td>\n",
       "    </tr>\n",
       "    <tr>\n",
       "      <th>60</th>\n",
       "      <td>능동로</td>\n",
       "      <td>Neungdongno</td>\n",
       "      <td>서울시 광진구 능동 일대</td>\n",
       "      <td>능동</td>\n",
       "      <td>Neung-dong</td>\n",
       "      <td>127.082462</td>\n",
       "      <td>37.551050</td>\n",
       "      <td>24</td>\n",
       "    </tr>\n",
       "    <tr>\n",
       "      <th>61</th>\n",
       "      <td>봉천동먹자골목</td>\n",
       "      <td>Bongcheon-dong food Alley</td>\n",
       "      <td>서울시 관악구 행운동 일대</td>\n",
       "      <td>행운동</td>\n",
       "      <td>Jungang-dong</td>\n",
       "      <td>126.948986</td>\n",
       "      <td>37.482941</td>\n",
       "      <td>64</td>\n",
       "    </tr>\n",
       "    <tr>\n",
       "      <th>62</th>\n",
       "      <td>걷고싶은문화의거리</td>\n",
       "      <td>Pedestrian-Friendly Culture Street</td>\n",
       "      <td>서울시 관악구 신림동 일대</td>\n",
       "      <td>신림동</td>\n",
       "      <td>Samseong-dong</td>\n",
       "      <td>126.934598</td>\n",
       "      <td>37.463202</td>\n",
       "      <td>72</td>\n",
       "    </tr>\n",
       "    <tr>\n",
       "      <th>63</th>\n",
       "      <td>관악디자인거리</td>\n",
       "      <td>Gwanak-gu design street</td>\n",
       "      <td>서울시 관악구 낙성대동 일대</td>\n",
       "      <td>낙성대동</td>\n",
       "      <td>Jungang-dong</td>\n",
       "      <td>126.948986</td>\n",
       "      <td>37.482941</td>\n",
       "      <td>23</td>\n",
       "    </tr>\n",
       "    <tr>\n",
       "      <th>64</th>\n",
       "      <td>한강자전거도로(강서지구)</td>\n",
       "      <td>Hangang River cycle lane(Gangseo Area)</td>\n",
       "      <td>서울시 강서구 방화2동 일대</td>\n",
       "      <td>방화2동</td>\n",
       "      <td>Banghwa3-dong</td>\n",
       "      <td>126.813323</td>\n",
       "      <td>37.577337</td>\n",
       "      <td>53</td>\n",
       "    </tr>\n",
       "    <tr>\n",
       "      <th>65</th>\n",
       "      <td>둘레길순례길구간</td>\n",
       "      <td>Sullye-gil course</td>\n",
       "      <td>서울시 강북구 우이동 일대</td>\n",
       "      <td>우이동</td>\n",
       "      <td>Insu-dong</td>\n",
       "      <td>127.004600</td>\n",
       "      <td>37.637094</td>\n",
       "      <td>36</td>\n",
       "    </tr>\n",
       "    <tr>\n",
       "      <th>66</th>\n",
       "      <td>천호동로데오거리</td>\n",
       "      <td>Cheonho-dong</td>\n",
       "      <td>서울시 강동구 천호3동 일대</td>\n",
       "      <td>천호3동</td>\n",
       "      <td>Cheonho2-dong</td>\n",
       "      <td>127.126679</td>\n",
       "      <td>37.543179</td>\n",
       "      <td>65</td>\n",
       "    </tr>\n",
       "    <tr>\n",
       "      <th>67</th>\n",
       "      <td>한강자전거도로(광나루지구)</td>\n",
       "      <td>Hangang River cycle lane(Gwangnaru Area)</td>\n",
       "      <td>서울시 강동구 암사2동 일대</td>\n",
       "      <td>암사2동</td>\n",
       "      <td>Amsa3-dong</td>\n",
       "      <td>127.130833</td>\n",
       "      <td>37.557926</td>\n",
       "      <td>32</td>\n",
       "    </tr>\n",
       "    <tr>\n",
       "      <th>68</th>\n",
       "      <td>천호디자인거리</td>\n",
       "      <td>Cheonho design street</td>\n",
       "      <td>서울시 강동구 성내2동 일대</td>\n",
       "      <td>성내2동</td>\n",
       "      <td>Seongnae1-dong</td>\n",
       "      <td>127.128898</td>\n",
       "      <td>37.530483</td>\n",
       "      <td>56</td>\n",
       "    </tr>\n",
       "    <tr>\n",
       "      <th>69</th>\n",
       "      <td>당리순대국</td>\n",
       "      <td>Dangni Korean Blood Sausag Soup</td>\n",
       "      <td>서울시 강동구 명일2동 일대</td>\n",
       "      <td>명일2동</td>\n",
       "      <td>Myeongil2-dong</td>\n",
       "      <td>127.149692</td>\n",
       "      <td>37.548684</td>\n",
       "      <td>34</td>\n",
       "    </tr>\n",
       "    <tr>\n",
       "      <th>70</th>\n",
       "      <td>병천토속순대</td>\n",
       "      <td>Byeongcheon folk sundae</td>\n",
       "      <td>서울시 강동구 길동 일대</td>\n",
       "      <td>길동</td>\n",
       "      <td>Gil-dong</td>\n",
       "      <td>127.147047</td>\n",
       "      <td>37.538560</td>\n",
       "      <td>66</td>\n",
       "    </tr>\n",
       "    <tr>\n",
       "      <th>71</th>\n",
       "      <td>청담동명품거리</td>\n",
       "      <td>Chengdam-dong luxury street</td>\n",
       "      <td>서울시 강남구 청담동 일대</td>\n",
       "      <td>청담동</td>\n",
       "      <td>Cheongdam-dong</td>\n",
       "      <td>127.052378</td>\n",
       "      <td>37.525406</td>\n",
       "      <td>76</td>\n",
       "    </tr>\n",
       "    <tr>\n",
       "      <th>72</th>\n",
       "      <td>테헤란로</td>\n",
       "      <td>Teheran-ro</td>\n",
       "      <td>서울시 강남구 역삼2동 일대</td>\n",
       "      <td>역삼2동</td>\n",
       "      <td>Yeoksam2-dong</td>\n",
       "      <td>127.038889</td>\n",
       "      <td>37.499866</td>\n",
       "      <td>43</td>\n",
       "    </tr>\n",
       "    <tr>\n",
       "      <th>73</th>\n",
       "      <td>가로수길</td>\n",
       "      <td>Garosu-gild Road</td>\n",
       "      <td>서울시 강남구 신사동 일대</td>\n",
       "      <td>신사동</td>\n",
       "      <td>Apgujeong-dong</td>\n",
       "      <td>127.029232</td>\n",
       "      <td>37.523825</td>\n",
       "      <td>98</td>\n",
       "    </tr>\n",
       "    <tr>\n",
       "      <th>74</th>\n",
       "      <td>논현동포차골목</td>\n",
       "      <td>Nonhyeondong cart bar Alley</td>\n",
       "      <td>서울시 강남구 논현1동 일대</td>\n",
       "      <td>논현1동</td>\n",
       "      <td>Nonhyeon2-dong</td>\n",
       "      <td>127.031196</td>\n",
       "      <td>37.513636</td>\n",
       "      <td>88</td>\n",
       "    </tr>\n",
       "  </tbody>\n",
       "</table>\n",
       "<p>75 rows × 8 columns</p>\n",
       "</div>"
      ],
      "text/plain": [
       "         street_ko                                    street_en  \\\n",
       "0            남대문거리                        fishing-tackle street   \n",
       "1          왕십리곱창골목                     Wangsimni Gopchang Alley   \n",
       "2       남산공원북측순환도로                  The north side of Ring-Road   \n",
       "3             장충단길                             Jangchungdan-gil   \n",
       "4              초동길                                  Chodong-gil   \n",
       "5         신당동떡볶이골목                                Topokki alley   \n",
       "6              돌담길                                   Doldam-gil   \n",
       "7             명동거리                           Myeong-dong street   \n",
       "8         청계천헌책방거리  Cheonggye Stream secondhand bookshop street   \n",
       "9            필리핀거리                       The Philippines Street   \n",
       "10         북악산길산책로                                 Bugaksan-gil   \n",
       "11           청와대앞길                            Cheongwadaeap-gil   \n",
       "12       동대문생선구이골목                             Baked fish Alley   \n",
       "13         인사동문화마당                       Insadong Culture Plaza   \n",
       "14           대학로거리                             Daehak-ro street   \n",
       "15            삼청동길                       Samcheongdong-gil Road   \n",
       "16           경복궁뒷길             Gyeongbokgung Palace back street   \n",
       "17         북악산길산책로                                 Bugaksan-gil   \n",
       "18             계동길                                  Gyedong-gil   \n",
       "19          둘레길3구간                           Dulle-gil course 3   \n",
       "20        응암동감자탕골목             Yongam Pork Back-bone Stew Alley   \n",
       "21         불광동먹자골목                      Bulgwangdong food alley   \n",
       "22        연신내로데오거리                                 Rodeo Street   \n",
       "23            해맞이길                                  Haemaji-gil   \n",
       "24         용산감자탕거리             Yongsan Pork Back-bone Stew Road   \n",
       "25            경리단길                         Finance corps street   \n",
       "26           이태원거리                               Itaewon street   \n",
       "27            여의서로                                   Yeouiseoro   \n",
       "28        안양천제방벚꽃길                     Anyangcheon Beotkkot-gil   \n",
       "29         신길동홍어거리                                 Skate Street   \n",
       "..             ...                                          ...   \n",
       "45        서래마을카페거리                    Seorae Villag Cafe Street   \n",
       "46          신촌이대거리                          Sinchon Ewha Street   \n",
       "47         아현동웨딩거리             Ahyeon-dong Wedding Dress Street   \n",
       "48        연남동차이나타운                                    Chinatown   \n",
       "49          아현동전골목                            Ahyeon Coin Alley   \n",
       "50         홍대예술의거리                    Hongik Univ Street of Art   \n",
       "51         메타세콰이어길                             Metasequoia Road   \n",
       "52             현충로                                 Hyeonchungno   \n",
       "53         경희대파전골목                   Kyunghee Univ pajeon Alley   \n",
       "54             홍릉길                                Hongneung-gil   \n",
       "55         화랑로낙엽거리               Hwarangno fallen leaves street   \n",
       "56        가리봉로데오거리                                 Rodeo Street   \n",
       "57       가리봉동차이나타운                                    Chinatown   \n",
       "58          건대맛의거리                         Geondae taste Street   \n",
       "59         건대로데오거리                                 Rodeo Street   \n",
       "60             능동로                                  Neungdongno   \n",
       "61         봉천동먹자골목                    Bongcheon-dong food Alley   \n",
       "62       걷고싶은문화의거리           Pedestrian-Friendly Culture Street   \n",
       "63         관악디자인거리                      Gwanak-gu design street   \n",
       "64   한강자전거도로(강서지구)       Hangang River cycle lane(Gangseo Area)   \n",
       "65        둘레길순례길구간                            Sullye-gil course   \n",
       "66        천호동로데오거리                                 Cheonho-dong   \n",
       "67  한강자전거도로(광나루지구)     Hangang River cycle lane(Gwangnaru Area)   \n",
       "68         천호디자인거리                        Cheonho design street   \n",
       "69           당리순대국              Dangni Korean Blood Sausag Soup   \n",
       "70          병천토속순대                      Byeongcheon folk sundae   \n",
       "71         청담동명품거리                  Chengdam-dong luxury street   \n",
       "72            테헤란로                                   Teheran-ro   \n",
       "73            가로수길                             Garosu-gild Road   \n",
       "74         논현동포차골목                  Nonhyeondong cart bar Alley   \n",
       "\n",
       "                   address      dong_ko               dong_en         lng  \\\n",
       "0            서울시 중구 회현동 일대          회현동         Hoehyeon-dong  126.977432   \n",
       "1            서울시 중구 황학동 일대          황학동         Hwanghak-dong  127.020434   \n",
       "2             서울시 중구 필동 일대           필동         Gwanghui-dong  126.995925   \n",
       "3            서울시 중구 장충동 일대          장충동              Pil-dong  127.000575   \n",
       "4           서울시 중구 을지로동 일대         을지로동          Euljiro-dong  126.997646   \n",
       "5            서울시 중구 신당동 일대          신당동         Cheonggu-dong  127.013160   \n",
       "6            서울시 중구 소공동 일대          소공동           Sogong-dong  126.979934   \n",
       "7             서울시 중구 명동 일대           명동           Myeong-dong  126.978819   \n",
       "8            서울시 중구 광희동 일대          광희동         Gwanghui-dong  127.008111   \n",
       "9           서울시 종로구 혜화동 일대          혜화동  Jongno1.2.3.4ga-dong  126.992990   \n",
       "10          서울시 종로구 평창동 일대          평창동      Pyeongchang-dong  126.957402   \n",
       "11        서울시 종로구 청운효자동 일대        청운효자동    Cheongunhyoja-dong  126.968455   \n",
       "12      서울시 종로구 종로5.6가동 일대      종로5.6가동      Jongno5.6ga-dong  127.000190   \n",
       "13  서울시 종로구 종로1.2.3.4가동 일대  종로1.2.3.4가동  Jongno1.2.3.4ga-dong  126.987380   \n",
       "14          서울시 종로구 이화동 일대          이화동             Ihwa-dong  127.005411   \n",
       "15          서울시 종로구 삼청동 일대          삼청동        Samcheong-dong  126.980391   \n",
       "16          서울시 종로구 사직동 일대          사직동            Sajik-dong  126.972626   \n",
       "17          서울시 종로구 부암동 일대          부암동             Buam-dong  126.964084   \n",
       "18          서울시 종로구 가회동 일대          가회동            Gahoe-dong  126.984807   \n",
       "19          서울시 은평구 진관동 일대          진관동          Jingwan-dong  126.934096   \n",
       "20         서울시 은평구 응암3동 일대         응암3동          Eungam3-dong  126.921704   \n",
       "21         서울시 은평구 불광1동 일대         불광1동        Bulgwang1-dong  126.935391   \n",
       "22         서울시 은평구 갈현2동 일대         갈현2동        Galhyeon2-dong  126.912916   \n",
       "23          서울시 용산구 한남동 일대          한남동           Hannam-dong  127.005929   \n",
       "24         서울시 용산구 한강로동 일대         한강로동        Hangangno-dong  126.973064   \n",
       "25        서울시 용산구 이태원2동 일대        이태원2동         Itaewon2-dong  126.991664   \n",
       "26        서울시 용산구 이태원1동 일대        이태원1동         Itaewon2-dong  126.991704   \n",
       "27         서울시 영등포구 여의동 일대          여의동            Yeoui-dong  126.929428   \n",
       "28        서울시 영등포구 양평1동 일대         양평1동      Yangpyeong1-dong  126.888618   \n",
       "29        서울시 영등포구 신길4동 일대         신길4동          Singil4-dong  126.911534   \n",
       "..                     ...          ...                   ...         ...   \n",
       "45         서울시 서초구 반포4동 일대         반포4동           Banpo4-dong  127.001900   \n",
       "46         서울시 서대문구 신촌동 일대          신촌동          Sinchon-dong  126.946546   \n",
       "47        서울시 서대문구 북아현동 일대         북아현동       Chunghyeon-dong  126.954554   \n",
       "48          서울시 마포구 연남동 일대          연남동          Yeonnam-dong  126.922346   \n",
       "49          서울시 마포구 아현동 일대          아현동           Ahyeon-dong  126.956089   \n",
       "50          서울시 마포구 서교동 일대          서교동          Daheung-dong  126.937928   \n",
       "51          서울시 마포구 상암동 일대          상암동           Sangam-dong  126.872594   \n",
       "52         서울시 동작구 사당2동 일대         사당2동          Sadang2-dong  126.973605   \n",
       "53        서울시 동대문구 휘경1동 일대         휘경1동       Hwigyeong2-dong  127.062599   \n",
       "54        서울시 동대문구 청량리동 일대         청량리동    Cheongnyangni-dong  127.046390   \n",
       "55         서울시 노원구 공릉2동 일대         공릉2동       Gongneung2-dong  127.087693   \n",
       "56          서울시 금천구 가산동 일대          가산동            Gasan-dong  126.884235   \n",
       "57         서울시 구로구 가리봉동 일대         가리봉동         Garibong-dong  126.887307   \n",
       "58          서울시 광진구 화양동 일대          화양동          Hwayang-dong  127.072736   \n",
       "59         서울시 광진구 자양4동 일대         자양4동          Jayang1-dong  127.080215   \n",
       "60           서울시 광진구 능동 일대           능동            Neung-dong  127.082462   \n",
       "61          서울시 관악구 행운동 일대          행운동          Jungang-dong  126.948986   \n",
       "62          서울시 관악구 신림동 일대          신림동         Samseong-dong  126.934598   \n",
       "63         서울시 관악구 낙성대동 일대         낙성대동          Jungang-dong  126.948986   \n",
       "64         서울시 강서구 방화2동 일대         방화2동         Banghwa3-dong  126.813323   \n",
       "65          서울시 강북구 우이동 일대          우이동             Insu-dong  127.004600   \n",
       "66         서울시 강동구 천호3동 일대         천호3동         Cheonho2-dong  127.126679   \n",
       "67         서울시 강동구 암사2동 일대         암사2동            Amsa3-dong  127.130833   \n",
       "68         서울시 강동구 성내2동 일대         성내2동        Seongnae1-dong  127.128898   \n",
       "69         서울시 강동구 명일2동 일대         명일2동        Myeongil2-dong  127.149692   \n",
       "70           서울시 강동구 길동 일대           길동              Gil-dong  127.147047   \n",
       "71          서울시 강남구 청담동 일대          청담동        Cheongdam-dong  127.052378   \n",
       "72         서울시 강남구 역삼2동 일대         역삼2동         Yeoksam2-dong  127.038889   \n",
       "73          서울시 강남구 신사동 일대          신사동        Apgujeong-dong  127.029232   \n",
       "74         서울시 강남구 논현1동 일대         논현1동        Nonhyeon2-dong  127.031196   \n",
       "\n",
       "          lat  score  \n",
       "0   37.558050     80  \n",
       "1   37.568610     68  \n",
       "2   37.561350     55  \n",
       "3   37.561386     87  \n",
       "4   37.566410      4  \n",
       "5   37.557255     41  \n",
       "6   37.564130     34  \n",
       "7   37.568059     97  \n",
       "8   37.569502     54  \n",
       "9   37.581990      3  \n",
       "10  37.617896     32  \n",
       "11  37.589673      3  \n",
       "12  37.573690     43  \n",
       "13  37.574403     97  \n",
       "14  37.577132     99  \n",
       "15  37.582810     65  \n",
       "16  37.578390     63  \n",
       "17  37.592346     56  \n",
       "18  37.582612     23  \n",
       "19  37.638680     16  \n",
       "20  37.592642      1  \n",
       "21  37.619201     21  \n",
       "22  37.620971     17  \n",
       "23  37.535397      7  \n",
       "24  37.531945      5  \n",
       "25  37.539718     99  \n",
       "26  37.538994     99  \n",
       "27  37.528313      8  \n",
       "28  37.523203     16  \n",
       "29  37.505977     14  \n",
       "..        ...    ...  \n",
       "45  37.504695     87  \n",
       "46  37.561111     92  \n",
       "47  37.563799     32  \n",
       "48  37.563108     22  \n",
       "49  37.554602     33  \n",
       "50  37.554241     99  \n",
       "51  37.571498     43  \n",
       "52  37.500688     26  \n",
       "53  37.588832     68  \n",
       "54  37.588198     23  \n",
       "55  37.630593     42  \n",
       "56  37.475038     32  \n",
       "57  37.482833     12  \n",
       "58  37.543322     84  \n",
       "59  37.531921     65  \n",
       "60  37.551050     24  \n",
       "61  37.482941     64  \n",
       "62  37.463202     72  \n",
       "63  37.482941     23  \n",
       "64  37.577337     53  \n",
       "65  37.637094     36  \n",
       "66  37.543179     65  \n",
       "67  37.557926     32  \n",
       "68  37.530483     56  \n",
       "69  37.548684     34  \n",
       "70  37.538560     66  \n",
       "71  37.525406     76  \n",
       "72  37.499866     43  \n",
       "73  37.523825     98  \n",
       "74  37.513636     88  \n",
       "\n",
       "[75 rows x 8 columns]"
      ]
     },
     "execution_count": 322,
     "metadata": {},
     "output_type": "execute_result"
    }
   ],
   "source": [
    "df_spot"
   ]
  },
  {
   "cell_type": "code",
   "execution_count": null,
   "metadata": {
    "collapsed": true
   },
   "outputs": [],
   "source": []
  },
  {
   "cell_type": "markdown",
   "metadata": {},
   "source": [
    "## Viz Data"
   ]
  },
  {
   "cell_type": "code",
   "execution_count": 323,
   "metadata": {
    "collapsed": false
   },
   "outputs": [
    {
     "data": {
      "text/html": [
       "<div style=\"width:100%;\"><div style=\"position:relative;width:100%;height:0;padding-bottom:60%;\"><iframe src=\"data:text/html;base64,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\" style=\"position:absolute;width:100%;height:100%;left:0;top:0;\"></iframe></div></div>"
      ],
      "text/plain": [
       "<folium.folium.Map at 0x10903f898>"
      ]
     },
     "execution_count": 323,
     "metadata": {},
     "output_type": "execute_result"
    }
   ],
   "source": [
    "m = folium.Map(location=[np.mean(df_spot.lat), np.mean(df_spot.lng)], zoom_start=11, tiles='Stamen Toner')\n",
    "for index, row in df_spot.iterrows():\n",
    "    popup_txt = \"%s // Score : %s \" % (row.street_en, row.score)\n",
    "    folium.Marker([row.lat, row.lng], popup=popup_txt).add_to(m)\n",
    "m"
   ]
  },
  {
   "cell_type": "code",
   "execution_count": null,
   "metadata": {
    "collapsed": true
   },
   "outputs": [],
   "source": []
  },
  {
   "cell_type": "code",
   "execution_count": null,
   "metadata": {
    "collapsed": true
   },
   "outputs": [],
   "source": []
  },
  {
   "cell_type": "code",
   "execution_count": null,
   "metadata": {
    "collapsed": false
   },
   "outputs": [],
   "source": []
  },
  {
   "cell_type": "code",
   "execution_count": null,
   "metadata": {
    "collapsed": true
   },
   "outputs": [],
   "source": []
  },
  {
   "cell_type": "code",
   "execution_count": null,
   "metadata": {
    "collapsed": true
   },
   "outputs": [],
   "source": []
  },
  {
   "cell_type": "markdown",
   "metadata": {},
   "source": [
    "# Applying Genetic Algorithm"
   ]
  },
  {
   "cell_type": "markdown",
   "metadata": {},
   "source": [
    "## Setting Things Up"
   ]
  },
  {
   "cell_type": "code",
   "execution_count": 324,
   "metadata": {
    "collapsed": true
   },
   "outputs": [],
   "source": [
    "import random\n",
    "import numpy as np\n",
    "from deap import algorithms, base, creator, tools"
   ]
  },
  {
   "cell_type": "markdown",
   "metadata": {},
   "source": [
    "### Creator"
   ]
  },
  {
   "cell_type": "code",
   "execution_count": 325,
   "metadata": {
    "collapsed": false
   },
   "outputs": [
    {
     "name": "stderr",
     "output_type": "stream",
     "text": [
      "/Library/Frameworks/Python.framework/Versions/3.5/lib/python3.5/site-packages/deap/creator.py:141: RuntimeWarning: A class named 'FitnessMulti' has already been created and it will be overwritten. Consider deleting previous creation of that class or rename it.\n",
      "  RuntimeWarning)\n",
      "/Library/Frameworks/Python.framework/Versions/3.5/lib/python3.5/site-packages/deap/creator.py:141: RuntimeWarning: A class named 'Individual' has already been created and it will be overwritten. Consider deleting previous creation of that class or rename it.\n",
      "  RuntimeWarning)\n"
     ]
    }
   ],
   "source": [
    "creator.create(\"FitnessMulti\", base.Fitness, weights=(-1.0,1.0))\n",
    "creator.create(\"Individual\", list, fitness=creator.FitnessMulti)"
   ]
  },
  {
   "cell_type": "markdown",
   "metadata": {},
   "source": [
    "### Toolbox"
   ]
  },
  {
   "cell_type": "code",
   "execution_count": 326,
   "metadata": {
    "collapsed": true
   },
   "outputs": [],
   "source": [
    "toolbox = base.Toolbox()"
   ]
  },
  {
   "cell_type": "code",
   "execution_count": 327,
   "metadata": {
    "collapsed": false
   },
   "outputs": [],
   "source": [
    "# Attribute generator \n",
    "toolbox.register(\"index\", np.random.choice, len(df_spot), 5, replace=False) # choose 5 spots"
   ]
  },
  {
   "cell_type": "code",
   "execution_count": 328,
   "metadata": {
    "collapsed": true
   },
   "outputs": [],
   "source": [
    "# Structure initializers\n",
    "toolbox.register(\"individual\", tools.initIterate, creator.Individual, toolbox.index)\n",
    "toolbox.register(\"population\", tools.initRepeat, list, toolbox.individual)"
   ]
  },
  {
   "cell_type": "code",
   "execution_count": 329,
   "metadata": {
    "collapsed": false
   },
   "outputs": [
    {
     "data": {
      "text/plain": [
       "[8, 15, 66, 52, 32]"
      ]
     },
     "execution_count": 329,
     "metadata": {},
     "output_type": "execute_result"
    }
   ],
   "source": [
    "# sample individual -> just index of the data\n",
    "ind = toolbox.individual()\n",
    "ind"
   ]
  },
  {
   "cell_type": "code",
   "execution_count": 330,
   "metadata": {
    "collapsed": false
   },
   "outputs": [
    {
     "data": {
      "text/html": [
       "<div>\n",
       "<table border=\"1\" class=\"dataframe\">\n",
       "  <thead>\n",
       "    <tr style=\"text-align: right;\">\n",
       "      <th></th>\n",
       "      <th>street_ko</th>\n",
       "      <th>street_en</th>\n",
       "      <th>address</th>\n",
       "      <th>dong_ko</th>\n",
       "      <th>dong_en</th>\n",
       "      <th>lng</th>\n",
       "      <th>lat</th>\n",
       "      <th>score</th>\n",
       "    </tr>\n",
       "  </thead>\n",
       "  <tbody>\n",
       "    <tr>\n",
       "      <th>8</th>\n",
       "      <td>청계천헌책방거리</td>\n",
       "      <td>Cheonggye Stream secondhand bookshop street</td>\n",
       "      <td>서울시 중구 광희동 일대</td>\n",
       "      <td>광희동</td>\n",
       "      <td>Gwanghui-dong</td>\n",
       "      <td>127.008111</td>\n",
       "      <td>37.569502</td>\n",
       "      <td>54</td>\n",
       "    </tr>\n",
       "    <tr>\n",
       "      <th>15</th>\n",
       "      <td>삼청동길</td>\n",
       "      <td>Samcheongdong-gil Road</td>\n",
       "      <td>서울시 종로구 삼청동 일대</td>\n",
       "      <td>삼청동</td>\n",
       "      <td>Samcheong-dong</td>\n",
       "      <td>126.980391</td>\n",
       "      <td>37.582810</td>\n",
       "      <td>65</td>\n",
       "    </tr>\n",
       "    <tr>\n",
       "      <th>66</th>\n",
       "      <td>천호동로데오거리</td>\n",
       "      <td>Cheonho-dong</td>\n",
       "      <td>서울시 강동구 천호3동 일대</td>\n",
       "      <td>천호3동</td>\n",
       "      <td>Cheonho2-dong</td>\n",
       "      <td>127.126679</td>\n",
       "      <td>37.543179</td>\n",
       "      <td>65</td>\n",
       "    </tr>\n",
       "    <tr>\n",
       "      <th>52</th>\n",
       "      <td>현충로</td>\n",
       "      <td>Hyeonchungno</td>\n",
       "      <td>서울시 동작구 사당2동 일대</td>\n",
       "      <td>사당2동</td>\n",
       "      <td>Sadang2-dong</td>\n",
       "      <td>126.973605</td>\n",
       "      <td>37.500688</td>\n",
       "      <td>26</td>\n",
       "    </tr>\n",
       "    <tr>\n",
       "      <th>32</th>\n",
       "      <td>목동로데오거리</td>\n",
       "      <td>Mok-dong Rodeo Street</td>\n",
       "      <td>서울시 양천구 신정4동 일대</td>\n",
       "      <td>신정4동</td>\n",
       "      <td>Sinjeong6-dong</td>\n",
       "      <td>126.862987</td>\n",
       "      <td>37.516577</td>\n",
       "      <td>42</td>\n",
       "    </tr>\n",
       "  </tbody>\n",
       "</table>\n",
       "</div>"
      ],
      "text/plain": [
       "   street_ko                                    street_en          address  \\\n",
       "8   청계천헌책방거리  Cheonggye Stream secondhand bookshop street    서울시 중구 광희동 일대   \n",
       "15      삼청동길                       Samcheongdong-gil Road   서울시 종로구 삼청동 일대   \n",
       "66  천호동로데오거리                                 Cheonho-dong  서울시 강동구 천호3동 일대   \n",
       "52       현충로                                 Hyeonchungno  서울시 동작구 사당2동 일대   \n",
       "32   목동로데오거리                        Mok-dong Rodeo Street  서울시 양천구 신정4동 일대   \n",
       "\n",
       "   dong_ko         dong_en         lng        lat  score  \n",
       "8      광희동   Gwanghui-dong  127.008111  37.569502     54  \n",
       "15     삼청동  Samcheong-dong  126.980391  37.582810     65  \n",
       "66    천호3동   Cheonho2-dong  127.126679  37.543179     65  \n",
       "52    사당2동    Sadang2-dong  126.973605  37.500688     26  \n",
       "32    신정4동  Sinjeong6-dong  126.862987  37.516577     42  "
      ]
     },
     "execution_count": 330,
     "metadata": {},
     "output_type": "execute_result"
    }
   ],
   "source": [
    "df_spot.ix[ind]"
   ]
  },
  {
   "cell_type": "code",
   "execution_count": null,
   "metadata": {
    "collapsed": true
   },
   "outputs": [],
   "source": []
  },
  {
   "cell_type": "markdown",
   "metadata": {},
   "source": [
    "## The Evaluation Function\n",
    "- objective function 1. __total distance -> minimun__\n",
    "- objective function 2. __total score -> maximum__"
   ]
  },
  {
   "cell_type": "code",
   "execution_count": 331,
   "metadata": {
    "collapsed": true
   },
   "outputs": [],
   "source": [
    "def create_tour(individual):\n",
    "    return [(df_spot.ix[i].lat, df_spot.ix[i].lng) for i in individual]"
   ]
  },
  {
   "cell_type": "code",
   "execution_count": 332,
   "metadata": {
    "collapsed": false
   },
   "outputs": [
    {
     "data": {
      "text/plain": [
       "[(37.569501799999998, 127.00811059999999),\n",
       " (37.5828099517, 126.9803912024),\n",
       " (37.543179073800005, 127.12667904760001),\n",
       " (37.500687911199996, 126.97360464049999),\n",
       " (37.516577196999997, 126.86298654209999)]"
      ]
     },
     "execution_count": 332,
     "metadata": {},
     "output_type": "execute_result"
    }
   ],
   "source": [
    "# convert index to geo data for get distance.\n",
    "tour = create_tour(ind)\n",
    "tour"
   ]
  },
  {
   "cell_type": "code",
   "execution_count": 333,
   "metadata": {
    "collapsed": true
   },
   "outputs": [],
   "source": [
    "## Function for get a total distance of tour case\n",
    "def total_distance(tour):\n",
    "    tour_sum = sum(distance(tour[i], tour[i+1]) for i in range(len(tour)-1))\n",
    "    return tour_sum\n",
    "\n",
    "def distance(spot1, spot2):\n",
    "    # convert decimal degrees to radians \n",
    "    lng1, lat1, lng2, lat2 = map(radians, [spot1[0], spot1[1], spot2[0], spot2[1]])\n",
    "    \n",
    "    RADIUS = 6371 # FAA approved globe radius in km\n",
    "    \n",
    "    dlng = lng2-lng1\n",
    "    dlat = lat2-lat1\n",
    "    a = sin(dlat/2)**2 + cos(lat1) * cos(lat2) * sin(dlng/2)**2\n",
    "    c = 2 * asin(sqrt(a)) \n",
    "    dist = RADIUS * c\n",
    "    return dist"
   ]
  },
  {
   "cell_type": "code",
   "execution_count": 334,
   "metadata": {
    "collapsed": false
   },
   "outputs": [
    {
     "data": {
      "text/plain": [
       "49.2934546604279"
      ]
     },
     "execution_count": 334,
     "metadata": {},
     "output_type": "execute_result"
    }
   ],
   "source": [
    "# total distance of sample individual\n",
    "total_distance(tour)"
   ]
  },
  {
   "cell_type": "code",
   "execution_count": 361,
   "metadata": {
    "collapsed": true
   },
   "outputs": [],
   "source": [
    "def plot_tour(ind):\n",
    "    tour = create_tour(ind)\n",
    "    m = folium.Map(location=[np.mean(df_spot.lat), np.mean(df_spot.lng)], zoom_start=13)\n",
    "    path=folium.PolyLine(locations=tour,weight=5)\n",
    "    m.add_children(path)\n",
    "    for i,loc in enumerate(ind):\n",
    "        popup_txt = \"%s // Score : %s \" % (df_spot.ix[loc].street_en, df_spot.ix[loc].score)\n",
    "        folium.Marker(tour[i], popup=popup_txt).add_to(m)\n",
    "    return m"
   ]
  },
  {
   "cell_type": "code",
   "execution_count": 336,
   "metadata": {
    "collapsed": false,
    "scrolled": true
   },
   "outputs": [
    {
     "data": {
      "text/html": [
       "<div style=\"width:100%;\"><div style=\"position:relative;width:100%;height:0;padding-bottom:60%;\"><iframe src=\"data:text/html;base64,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\" style=\"position:absolute;width:100%;height:100%;left:0;top:0;\"></iframe></div></div>"
      ],
      "text/plain": [
       "<folium.folium.Map at 0x1092ef668>"
      ]
     },
     "execution_count": 336,
     "metadata": {},
     "output_type": "execute_result"
    }
   ],
   "source": [
    "# vizualize the tour\n",
    "plot_tour(ind)"
   ]
  },
  {
   "cell_type": "code",
   "execution_count": 337,
   "metadata": {
    "collapsed": true
   },
   "outputs": [],
   "source": [
    "def total_score(individual):\n",
    "    return sum([df_spot.ix[i]['score'] for i in individual]) "
   ]
  },
  {
   "cell_type": "code",
   "execution_count": 338,
   "metadata": {
    "collapsed": false
   },
   "outputs": [
    {
     "data": {
      "text/plain": [
       "252"
      ]
     },
     "execution_count": 338,
     "metadata": {},
     "output_type": "execute_result"
    }
   ],
   "source": [
    "# total scores of the sample individual\n",
    "total_score(ind)"
   ]
  },
  {
   "cell_type": "code",
   "execution_count": 339,
   "metadata": {
    "collapsed": true
   },
   "outputs": [],
   "source": [
    "def eval_func(individual):\n",
    "    \n",
    "    # 1 total distance -> minimun\n",
    "    t_dist = total_distance(create_tour(individual))\n",
    "    \n",
    "    # 2 total score -> maximum\n",
    "    t_score = total_score(individual)\n",
    "    \n",
    "    # 3 penalty\n",
    "    penalty = len(individual) - len(set(individual))\n",
    "    t_dist += penalty*1000000\n",
    "    t_score -= penalty*1000000\n",
    "    \n",
    "    return t_dist, t_score"
   ]
  },
  {
   "cell_type": "code",
   "execution_count": 340,
   "metadata": {
    "collapsed": false
   },
   "outputs": [
    {
     "data": {
      "text/plain": [
       "(49.2934546604279, 252)"
      ]
     },
     "execution_count": 340,
     "metadata": {},
     "output_type": "execute_result"
    }
   ],
   "source": [
    "# total scores of the sample individual\n",
    "eval_func(ind) "
   ]
  },
  {
   "cell_type": "code",
   "execution_count": null,
   "metadata": {
    "collapsed": true
   },
   "outputs": [],
   "source": []
  },
  {
   "cell_type": "markdown",
   "metadata": {},
   "source": [
    "## The Genetic Operators"
   ]
  },
  {
   "cell_type": "code",
   "execution_count": 341,
   "metadata": {
    "collapsed": true
   },
   "outputs": [],
   "source": [
    "toolbox.register(\"evaluate\", eval_func)"
   ]
  },
  {
   "cell_type": "code",
   "execution_count": 342,
   "metadata": {
    "collapsed": false
   },
   "outputs": [],
   "source": [
    "toolbox.register(\"select\", tools.selNSGA2)\n",
    "toolbox.register(\"mate\", tools.cxTwoPoint)\n",
    "# tools.mutShuffleIndexes : Shuffle the attributes of the input individual and return the mutant.\n",
    "toolbox.register(\"mutate\", tools.mutShuffleIndexes, indpb=0.8) "
   ]
  },
  {
   "cell_type": "code",
   "execution_count": null,
   "metadata": {
    "collapsed": true
   },
   "outputs": [],
   "source": []
  },
  {
   "cell_type": "markdown",
   "metadata": {},
   "source": [
    "## Evolving the Population"
   ]
  },
  {
   "cell_type": "code",
   "execution_count": 343,
   "metadata": {
    "collapsed": true
   },
   "outputs": [],
   "source": [
    "POP_SIZE = 100\n",
    "MAX_GEN = 100\n",
    "MUT_PROB = 0.2\n",
    "CX_PROB = 0.8"
   ]
  },
  {
   "cell_type": "markdown",
   "metadata": {},
   "source": [
    "### Creating the Population"
   ]
  },
  {
   "cell_type": "code",
   "execution_count": 344,
   "metadata": {
    "collapsed": false,
    "scrolled": true
   },
   "outputs": [
    {
     "data": {
      "text/plain": [
       "[[26, 3, 66, 13, 19],\n",
       " [62, 61, 11, 26, 24],\n",
       " [7, 42, 43, 22, 19],\n",
       " [35, 36, 52, 73, 31],\n",
       " [0, 56, 6, 71, 15],\n",
       " [62, 34, 53, 23, 49],\n",
       " [57, 29, 48, 43, 1],\n",
       " [14, 64, 55, 72, 67],\n",
       " [64, 10, 43, 59, 60],\n",
       " [32, 68, 20, 49, 30],\n",
       " [55, 32, 70, 24, 69],\n",
       " [19, 32, 58, 49, 41],\n",
       " [50, 54, 24, 66, 44],\n",
       " [23, 48, 25, 43, 34],\n",
       " [45, 21, 44, 65, 20],\n",
       " [21, 0, 56, 43, 72],\n",
       " [45, 62, 70, 69, 50],\n",
       " [29, 56, 54, 60, 33],\n",
       " [35, 7, 29, 39, 15],\n",
       " [51, 60, 56, 4, 31],\n",
       " [7, 73, 21, 48, 66],\n",
       " [34, 42, 3, 65, 60],\n",
       " [60, 19, 8, 69, 14],\n",
       " [67, 13, 18, 26, 53],\n",
       " [20, 21, 7, 73, 48],\n",
       " [19, 10, 62, 60, 53],\n",
       " [21, 14, 30, 3, 6],\n",
       " [7, 36, 13, 6, 16],\n",
       " [67, 29, 61, 22, 47],\n",
       " [9, 72, 19, 65, 51],\n",
       " [48, 18, 63, 23, 68],\n",
       " [42, 15, 11, 10, 58],\n",
       " [13, 3, 44, 19, 15],\n",
       " [3, 25, 36, 44, 73],\n",
       " [66, 55, 7, 12, 57],\n",
       " [65, 19, 23, 63, 9],\n",
       " [27, 67, 28, 34, 40],\n",
       " [42, 44, 12, 1, 35],\n",
       " [18, 53, 36, 15, 43],\n",
       " [16, 72, 31, 57, 74],\n",
       " [24, 23, 11, 14, 53],\n",
       " [51, 5, 63, 37, 23],\n",
       " [45, 69, 25, 61, 29],\n",
       " [57, 41, 26, 10, 34],\n",
       " [13, 73, 20, 39, 48],\n",
       " [42, 2, 53, 62, 18],\n",
       " [46, 49, 10, 56, 65],\n",
       " [7, 6, 64, 16, 59],\n",
       " [8, 59, 29, 55, 27],\n",
       " [8, 53, 16, 20, 31],\n",
       " [52, 12, 17, 55, 69],\n",
       " [47, 29, 68, 23, 72],\n",
       " [34, 72, 28, 73, 32],\n",
       " [24, 40, 49, 21, 13],\n",
       " [49, 36, 42, 73, 61],\n",
       " [18, 40, 13, 22, 51],\n",
       " [47, 21, 57, 35, 5],\n",
       " [31, 51, 53, 1, 32],\n",
       " [29, 59, 65, 6, 24],\n",
       " [35, 51, 69, 25, 0],\n",
       " [69, 27, 7, 9, 63],\n",
       " [15, 44, 41, 73, 2],\n",
       " [26, 14, 35, 66, 42],\n",
       " [37, 1, 27, 23, 28],\n",
       " [35, 44, 9, 33, 71],\n",
       " [39, 61, 55, 71, 47],\n",
       " [2, 57, 71, 35, 39],\n",
       " [66, 40, 49, 9, 17],\n",
       " [6, 26, 70, 35, 62],\n",
       " [69, 6, 30, 34, 71],\n",
       " [19, 0, 30, 60, 38],\n",
       " [11, 45, 59, 67, 21],\n",
       " [46, 4, 9, 20, 65],\n",
       " [3, 22, 6, 34, 61],\n",
       " [3, 59, 17, 18, 57],\n",
       " [59, 10, 3, 1, 50],\n",
       " [37, 4, 55, 61, 32],\n",
       " [3, 10, 11, 45, 34],\n",
       " [71, 64, 9, 1, 12],\n",
       " [72, 52, 5, 13, 27],\n",
       " [35, 64, 30, 31, 66],\n",
       " [61, 44, 59, 0, 22],\n",
       " [48, 34, 1, 54, 72],\n",
       " [10, 32, 23, 35, 14],\n",
       " [36, 5, 67, 27, 70],\n",
       " [20, 8, 54, 59, 22],\n",
       " [53, 49, 68, 1, 56],\n",
       " [72, 23, 50, 40, 31],\n",
       " [18, 9, 26, 71, 31],\n",
       " [34, 22, 66, 12, 70],\n",
       " [27, 9, 45, 6, 2],\n",
       " [2, 32, 52, 51, 5],\n",
       " [38, 24, 64, 37, 16],\n",
       " [48, 12, 50, 21, 11],\n",
       " [22, 61, 7, 47, 51],\n",
       " [13, 37, 73, 68, 3],\n",
       " [30, 38, 23, 70, 15],\n",
       " [73, 10, 65, 6, 9],\n",
       " [14, 15, 25, 47, 62],\n",
       " [5, 22, 36, 12, 2]]"
      ]
     },
     "execution_count": 344,
     "metadata": {},
     "output_type": "execute_result"
    }
   ],
   "source": [
    "pop = toolbox.population(n=POP_SIZE)\n",
    "pop"
   ]
  },
  {
   "cell_type": "markdown",
   "metadata": {},
   "source": [
    "### The Appeal of Evolution"
   ]
  },
  {
   "cell_type": "code",
   "execution_count": 345,
   "metadata": {
    "collapsed": true
   },
   "outputs": [],
   "source": [
    "stats = tools.Statistics(lambda ind: ind.fitness.values)\n",
    "stats.register(\"avg\", np.mean, axis=0) \n",
    "stats.register(\"min\", np.min, axis=0)\n",
    "stats.register(\"max\", np.max, axis=0)"
   ]
  },
  {
   "cell_type": "code",
   "execution_count": 346,
   "metadata": {
    "collapsed": false,
    "scrolled": true
   },
   "outputs": [
    {
     "name": "stdout",
     "output_type": "stream",
     "text": [
      "gen\tnevals\tavg                          \tmin                        \tmax                          \n",
      "0  \t100   \t[  42.55192901  227.94      ]\t[ 15.91890855  85.        ]\t[  96.76746385  381.        ]\n",
      "1  \t100   \t[  33.97492201  261.27      ]\t[  14.92054295  132.        ]\t[  77.69217341  428.        ]\n",
      "2  \t100   \t[  29.3652626  279.82     ]  \t[  14.06698301  107.        ]\t[  56.42864121  428.        ]\n",
      "3  \t100   \t[  26.74125528  307.5       ]\t[   9.59704691  107.        ]\t[  51.90570875  428.        ]\n",
      "4  \t100   \t[  22.7316907  318.47     ]  \t[   7.75123178  107.        ]\t[  51.90570875  440.        ]\n",
      "5  \t100   \t[  21.74857847  341.51      ]\t[   7.75123178  189.        ]\t[  51.90570875  440.        ]\n",
      "6  \t100   \t[  18.02675015  343.05      ]\t[   7.75123178  186.        ]\t[  62.05534445  471.        ]\n",
      "7  \t100   \t[  16.62718018  362.62      ]\t[   4.63437973  186.        ]\t[  50.81490246  471.        ]\n",
      "8  \t100   \t[  14.88082524  388.13      ]\t[   4.63437973  219.        ]\t[  41.39343036  482.        ]\n",
      "9  \t100   \t[  12.43272334  391.04      ]\t[   3.67057643  219.        ]\t[  36.2538479  490.       ]  \n",
      "10 \t100   \t[  10.98509824  397.47      ]\t[   3.67057643  219.        ]\t[  36.2538479  490.       ]  \n",
      "11 \t100   \t[  10.12364917  405.25      ]\t[   3.67057643  219.        ]\t[  18.73818402  490.        ]\n",
      "12 \t100   \t[   9.07563109  411.6       ]\t[   3.67057643  219.        ]\t[  15.61968811  490.        ]\n",
      "13 \t100   \t[   8.51744287  414.69      ]\t[   3.67057643  219.        ]\t[  15.48302496  491.        ]\n",
      "14 \t100   \t[   7.41292876  408.12      ]\t[   3.65516405  231.        ]\t[  13.16722879  491.        ]\n",
      "15 \t100   \t[   6.86805694  408.46      ]\t[   3.60109906  251.        ]\t[  12.02117438  491.        ]\n",
      "16 \t100   \t[   6.63677509  413.22      ]\t[   3.60109906  251.        ]\t[  11.14020898  491.        ]\n",
      "17 \t100   \t[   6.31950326  419.93      ]\t[   3.06529045  311.        ]\t[  13.70107664  492.        ]\n",
      "18 \t100   \t[   6.01683146  420.28      ]\t[   3.06529045  315.        ]\t[  13.70107664  492.        ]\n",
      "19 \t100   \t[   5.62602234  419.8       ]\t[   3.06529045  315.        ]\t[  13.70107664  492.        ]\n",
      "20 \t100   \t[   5.41830331  419.79      ]\t[   3.06529045  315.        ]\t[  13.70107664  492.        ]\n",
      "21 \t100   \t[   5.40367272  427.28      ]\t[   3.06529045  315.        ]\t[  13.70107664  492.        ]\n",
      "22 \t100   \t[   5.21712883  428.9       ]\t[   2.83962043  328.        ]\t[  13.70107664  492.        ]\n",
      "23 \t100   \t[   5.21217052  434.15      ]\t[   2.83962043  327.        ]\t[  13.70107664  492.        ]\n",
      "24 \t100   \t[   4.96900636  430.76      ]\t[   2.83962043  327.        ]\t[  13.70107664  492.        ]\n",
      "25 \t100   \t[   4.89506167  432.        ]\t[   2.83962043  327.        ]\t[  13.70107664  492.        ]\n",
      "26 \t100   \t[   4.73670058  430.05      ]\t[   2.83962043  327.        ]\t[  13.70107664  492.        ]\n",
      "27 \t100   \t[   4.75005159  431.17      ]\t[   2.83962043  327.        ]\t[  13.70107664  492.        ]\n",
      "28 \t100   \t[   4.68397083  431.37      ]\t[   2.83962043  327.        ]\t[  13.70107664  492.        ]\n",
      "29 \t100   \t[   4.66757145  429.89      ]\t[   2.83962043  327.        ]\t[  13.71708502  492.        ]\n",
      "30 \t100   \t[   4.72873224  434.38      ]\t[   2.83962043  345.        ]\t[  13.71708502  492.        ]\n",
      "31 \t100   \t[   4.56979613  438.37      ]\t[   2.83962043  345.        ]\t[  13.24723015  492.        ]\n",
      "32 \t100   \t[   4.63622566  440.33      ]\t[   2.83962043  345.        ]\t[  12.67769687  492.        ]\n",
      "33 \t100   \t[   4.55734861  441.54      ]\t[   2.83962043  345.        ]\t[  12.63169498  492.        ]\n",
      "34 \t100   \t[   4.54404689  439.69      ]\t[   2.83962043  345.        ]\t[  12.61642059  492.        ]\n",
      "35 \t100   \t[   4.58683955  438.52      ]\t[   2.83962043  345.        ]\t[  11.67449694  492.        ]\n",
      "36 \t100   \t[   4.9292474  454.12     ]  \t[   2.83392694  345.        ]\t[  12.61642059  492.        ]\n",
      "37 \t100   \t[   5.12141868  464.86      ]\t[   2.83392694  345.        ]\t[  11.67449694  492.        ]\n",
      "38 \t100   \t[   5.26945297  469.37      ]\t[   2.83392694  362.        ]\t[  11.16112947  492.        ]\n",
      "39 \t100   \t[   5.37993345  471.61      ]\t[   2.83392694  362.        ]\t[  11.16112947  492.        ]\n",
      "40 \t100   \t[   5.04481718  471.68      ]\t[   2.83392694  362.        ]\t[  11.15636057  492.        ]\n",
      "41 \t100   \t[   4.97100485  470.03      ]\t[   2.83392694  362.        ]\t[  11.15636057  492.        ]\n",
      "42 \t100   \t[   4.83642094  466.51      ]\t[   2.83392694  362.        ]\t[  11.15636057  492.        ]\n",
      "43 \t100   \t[   4.74429285  464.42      ]\t[   2.83392694  362.        ]\t[  11.15393522  492.        ]\n",
      "44 \t100   \t[   4.6512329  463.39     ]  \t[   2.83392694  362.        ]\t[  10.74995493  492.        ]\n",
      "45 \t100   \t[   4.28675419  453.5       ]\t[   2.83392694  409.        ]\t[   8.78977718  492.        ]\n",
      "46 \t100   \t[   3.87191475  441.17      ]\t[   2.83392694  409.        ]\t[   8.78977718  492.        ]\n",
      "47 \t100   \t[   3.91451508  442.01      ]\t[   2.83392694  409.        ]\t[   8.78977718  492.        ]\n",
      "48 \t100   \t[   3.91243383  442.52      ]\t[   2.83392694  409.        ]\t[   8.78977718  492.        ]\n",
      "49 \t100   \t[   3.99861164  442.48      ]\t[   2.83392694  409.        ]\t[  14.08942584  492.        ]\n",
      "50 \t100   \t[   4.04727301  443.21      ]\t[   2.83392694  409.        ]\t[  12.98742789  492.        ]\n",
      "51 \t100   \t[   4.06174423  443.97      ]\t[   2.83392694  409.        ]\t[  12.98742789  492.        ]\n",
      "52 \t100   \t[   4.00757256  442.8       ]\t[   2.83392694  409.        ]\t[  11.67449694  492.        ]\n",
      "53 \t100   \t[   4.01773523  443.13      ]\t[   2.83392694  409.        ]\t[  11.67449694  492.        ]\n",
      "54 \t100   \t[   3.92469257  440.37      ]\t[   2.83392694  409.        ]\t[  10.7891372  492.       ]  \n",
      "55 \t100   \t[   3.6250035  432.15     ]  \t[   2.83392694  409.        ]\t[   8.78977718  492.        ]\n",
      "56 \t100   \t[   3.2624161  419.79     ]  \t[   2.83392694  409.        ]\t[   8.78977718  492.        ]\n",
      "57 \t100   \t[   3.28066783  420.71      ]\t[   2.83392694  409.        ]\t[   8.78977718  492.        ]\n",
      "58 \t100   \t[   3.33608994  423.81      ]\t[   2.83392694  409.        ]\t[   8.78977718  492.        ]\n",
      "59 \t100   \t[   3.39284592  427.59      ]\t[   2.83392694  409.        ]\t[   8.78977718  492.        ]\n",
      "60 \t100   \t[   3.47537357  431.85      ]\t[   2.83392694  409.        ]\t[   8.78977718  492.        ]\n",
      "61 \t100   \t[   3.50502402  434.47      ]\t[   2.83392694  409.        ]\t[   8.78977718  492.        ]\n",
      "62 \t100   \t[   3.67671052  444.59      ]\t[   2.83392694  409.        ]\t[   8.78977718  492.        ]\n",
      "63 \t100   \t[   3.61289345  450.16      ]\t[   2.83392694  409.        ]\t[   8.78977718  492.        ]\n",
      "64 \t100   \t[   3.9278038  470.41     ]  \t[   2.83392694  409.        ]\t[   8.78977718  492.        ]\n",
      "65 \t100   \t[   4.03865959  470.2       ]\t[   2.83392694  409.        ]\t[  10.78428592  492.        ]\n",
      "66 \t100   \t[   4.1163083  468.79     ]  \t[   2.83392694  409.        ]\t[   9.84342963  492.        ]\n",
      "67 \t100   \t[   4.10176286  467.57      ]\t[   2.83392694  409.        ]\t[   9.84342963  492.        ]\n",
      "68 \t100   \t[   4.12854684  467.85      ]\t[   2.83392694  409.        ]\t[   9.84342963  492.        ]\n",
      "69 \t100   \t[   4.18616595  467.61      ]\t[   2.83392694  409.        ]\t[   9.84342963  492.        ]\n",
      "70 \t100   \t[   4.35440327  467.97      ]\t[   2.83392694  409.        ]\t[   9.84342963  492.        ]\n",
      "71 \t100   \t[   4.32087242  466.46      ]\t[   2.83392694  409.        ]\t[   9.84342963  492.        ]\n",
      "72 \t100   \t[   4.32494813  465.51      ]\t[   2.83392694  409.        ]\t[   8.92332322  492.        ]\n",
      "73 \t100   \t[   4.5062339  465.46     ]  \t[   2.83392694  409.        ]\t[   8.92332322  492.        ]\n",
      "74 \t100   \t[   4.55749094  462.38      ]\t[   2.83392694  409.        ]\t[   8.78977718  492.        ]\n",
      "75 \t100   \t[   4.38188007  457.27      ]\t[   2.83392694  409.        ]\t[   8.78977718  492.        ]\n",
      "76 \t100   \t[   4.03065833  447.05      ]\t[   2.83392694  409.        ]\t[   8.78977718  492.        ]\n",
      "77 \t100   \t[   4.3519464  457.08     ]  \t[   2.83392694  409.        ]\t[   8.78977718  492.        ]\n",
      "78 \t100   \t[   3.7900596  439.43     ]  \t[   2.83392694  409.        ]\t[   8.78977718  492.        ]\n",
      "79 \t100   \t[   3.44231864  428.96      ]\t[   2.83392694  409.        ]\t[   8.78977718  492.        ]\n",
      "80 \t100   \t[   3.47344905  430.31      ]\t[   2.83392694  409.        ]\t[   8.78977718  492.        ]\n",
      "81 \t100   \t[   3.62364636  435.73      ]\t[   2.83392694  409.        ]\t[   8.78977718  492.        ]\n",
      "82 \t100   \t[   3.8733932  442.72     ]  \t[   2.83392694  409.        ]\t[   8.78977718  492.        ]\n",
      "83 \t100   \t[   4.04722875  451.29      ]\t[   2.83392694  409.        ]\t[   8.78977718  492.        ]\n",
      "84 \t100   \t[   4.25279808  462.22      ]\t[   2.83392694  409.        ]\t[   8.78977718  492.        ]\n",
      "85 \t100   \t[   4.19570693  472.39      ]\t[   2.83392694  409.        ]\t[   8.78977718  492.        ]\n",
      "86 \t100   \t[   3.91483677  470.32      ]\t[   2.83392694  409.        ]\t[   8.78977718  492.        ]\n",
      "87 \t100   \t[   3.93926026  470.5       ]\t[   2.83392694  409.        ]\t[   8.78977718  492.        ]\n",
      "88 \t100   \t[   3.95147201  470.59      ]\t[   2.83392694  409.        ]\t[   8.78977718  492.        ]\n",
      "89 \t100   \t[   3.9758955  470.77     ]  \t[   2.83392694  409.        ]\t[   8.78977718  492.        ]\n",
      "90 \t100   \t[   3.99529228  469.9       ]\t[   2.83392694  409.        ]\t[   8.78977718  492.        ]\n",
      "91 \t100   \t[   4.06137772  471.4       ]\t[   2.83392694  409.        ]\t[   8.78977718  492.        ]\n",
      "92 \t100   \t[   4.13129706  471.24      ]\t[   2.83392694  409.        ]\t[   8.78977718  492.        ]\n",
      "93 \t100   \t[   4.2883742  472.06     ]  \t[   2.83392694  409.        ]\t[   8.78977718  492.        ]\n",
      "94 \t100   \t[   4.51201953  472.02      ]\t[   2.83392694  409.        ]\t[   8.78977718  492.        ]\n",
      "95 \t100   \t[   4.96504696  478.06      ]\t[   2.83392694  409.        ]\t[   8.78977718  492.        ]\n",
      "96 \t100   \t[   4.96504696  478.06      ]\t[   2.83392694  409.        ]\t[   8.78977718  492.        ]\n",
      "97 \t100   \t[   4.96504696  478.06      ]\t[   2.83392694  409.        ]\t[   8.78977718  492.        ]\n",
      "98 \t100   \t[   4.96504696  478.06      ]\t[   2.83392694  409.        ]\t[   8.78977718  492.        ]\n",
      "99 \t100   \t[   4.96504696  478.06      ]\t[   2.83392694  409.        ]\t[   8.78977718  492.        ]\n",
      "100\t100   \t[   4.92338501  476.74      ]\t[   2.83392694  409.        ]\t[   8.78977718  492.        ]\n",
      "CPU times: user 23.5 s, sys: 123 ms, total: 23.6 s\n",
      "Wall time: 24.2 s\n"
     ]
    }
   ],
   "source": [
    "%%time \n",
    "result, log = algorithms.eaMuPlusLambda(pop, \n",
    "                                     toolbox, \n",
    "                                     mu=POP_SIZE, # The number of individuals to select for the next generation.\n",
    "                                     lambda_= POP_SIZE, # The number of children to produce at each generation.\n",
    "                                     cxpb= CX_PROB,\n",
    "                                     mutpb= MUT_PROB, \n",
    "                                     stats= stats, \n",
    "                                     ngen= MAX_GEN,\n",
    "                                     verbose= True)"
   ]
  },
  {
   "cell_type": "code",
   "execution_count": null,
   "metadata": {
    "collapsed": true
   },
   "outputs": [],
   "source": []
  },
  {
   "cell_type": "code",
   "execution_count": null,
   "metadata": {
    "collapsed": true
   },
   "outputs": [],
   "source": []
  },
  {
   "cell_type": "markdown",
   "metadata": {},
   "source": [
    "## Make a decision"
   ]
  },
  {
   "cell_type": "code",
   "execution_count": 347,
   "metadata": {
    "collapsed": false,
    "scrolled": true
   },
   "outputs": [
    {
     "data": {
      "text/plain": [
       "[[[26, 25, 0, 6, 7],\n",
       "  [26, 25, 0, 6, 7],\n",
       "  [13, 2, 3, 25, 26],\n",
       "  [13, 2, 3, 25, 26],\n",
       "  [13, 2, 3, 25, 26],\n",
       "  [13, 2, 3, 25, 26],\n",
       "  [13, 2, 3, 25, 26],\n",
       "  [16, 7, 0, 25, 26],\n",
       "  [16, 7, 0, 25, 26],\n",
       "  [13, 7, 0, 25, 26],\n",
       "  [13, 7, 0, 25, 26],\n",
       "  [13, 14, 3, 25, 26],\n",
       "  [13, 14, 3, 25, 26],\n",
       "  [13, 14, 3, 25, 26],\n",
       "  [13, 14, 3, 25, 26],\n",
       "  [13, 14, 3, 25, 26],\n",
       "  [13, 14, 3, 25, 26],\n",
       "  [13, 14, 3, 25, 26],\n",
       "  [13, 14, 3, 25, 26],\n",
       "  [13, 14, 3, 25, 26],\n",
       "  [13, 14, 3, 25, 26],\n",
       "  [13, 14, 3, 25, 26],\n",
       "  [13, 14, 3, 25, 26],\n",
       "  [13, 14, 3, 25, 26],\n",
       "  [13, 14, 3, 25, 26],\n",
       "  [13, 14, 3, 25, 26],\n",
       "  [13, 14, 3, 25, 26],\n",
       "  [13, 14, 3, 25, 26],\n",
       "  [13, 14, 3, 25, 26],\n",
       "  [13, 14, 3, 25, 26],\n",
       "  [13, 14, 3, 25, 26],\n",
       "  [13, 14, 3, 25, 26],\n",
       "  [13, 14, 3, 25, 26],\n",
       "  [13, 14, 3, 25, 26],\n",
       "  [13, 14, 3, 25, 26],\n",
       "  [13, 14, 3, 25, 26],\n",
       "  [13, 14, 3, 25, 26],\n",
       "  [13, 14, 3, 25, 26],\n",
       "  [13, 14, 3, 25, 26],\n",
       "  [13, 14, 3, 25, 26],\n",
       "  [13, 14, 3, 25, 26],\n",
       "  [13, 14, 3, 25, 26],\n",
       "  [13, 14, 3, 25, 26],\n",
       "  [13, 14, 3, 25, 26],\n",
       "  [13, 14, 3, 25, 26],\n",
       "  [13, 14, 3, 25, 26],\n",
       "  [13, 14, 3, 25, 26],\n",
       "  [13, 14, 3, 25, 26],\n",
       "  [13, 14, 3, 25, 26],\n",
       "  [13, 14, 3, 25, 26],\n",
       "  [13, 14, 3, 25, 26],\n",
       "  [13, 14, 3, 25, 26],\n",
       "  [13, 14, 3, 25, 26],\n",
       "  [13, 14, 3, 25, 26],\n",
       "  [13, 14, 3, 25, 26],\n",
       "  [13, 14, 3, 25, 26],\n",
       "  [13, 14, 3, 25, 26],\n",
       "  [13, 14, 3, 25, 26],\n",
       "  [13, 14, 3, 25, 26],\n",
       "  [13, 14, 3, 25, 26],\n",
       "  [13, 14, 3, 25, 26],\n",
       "  [13, 14, 3, 25, 26],\n",
       "  [13, 14, 3, 25, 26],\n",
       "  [13, 14, 3, 25, 26],\n",
       "  [13, 14, 3, 25, 26],\n",
       "  [13, 14, 3, 25, 26],\n",
       "  [13, 14, 3, 25, 26],\n",
       "  [13, 14, 3, 25, 26],\n",
       "  [13, 14, 3, 25, 26],\n",
       "  [13, 14, 3, 25, 26],\n",
       "  [13, 14, 3, 25, 26],\n",
       "  [13, 14, 3, 25, 26],\n",
       "  [13, 14, 3, 25, 26],\n",
       "  [13, 14, 3, 25, 26],\n",
       "  [13, 14, 3, 25, 26],\n",
       "  [13, 14, 3, 25, 26],\n",
       "  [13, 14, 3, 25, 26],\n",
       "  [13, 14, 3, 25, 26],\n",
       "  [13, 14, 3, 25, 26],\n",
       "  [13, 14, 3, 25, 26],\n",
       "  [13, 14, 3, 25, 26],\n",
       "  [13, 14, 3, 25, 26],\n",
       "  [13, 14, 3, 25, 26],\n",
       "  [13, 14, 3, 25, 26],\n",
       "  [13, 14, 3, 25, 26],\n",
       "  [13, 14, 3, 25, 26],\n",
       "  [13, 14, 3, 25, 26],\n",
       "  [13, 14, 3, 25, 26],\n",
       "  [13, 14, 3, 25, 26],\n",
       "  [13, 14, 3, 25, 26],\n",
       "  [13, 14, 3, 25, 26],\n",
       "  [13, 14, 3, 25, 26],\n",
       "  [13, 14, 3, 25, 26],\n",
       "  [13, 14, 3, 25, 26],\n",
       "  [13, 14, 3, 25, 26],\n",
       "  [13, 14, 3, 25, 26],\n",
       "  [26, 25, 7, 13, 14],\n",
       "  [26, 25, 7, 13, 14],\n",
       "  [73, 25, 26, 13, 14],\n",
       "  [73, 25, 26, 13, 14]]]"
      ]
     },
     "execution_count": 347,
     "metadata": {},
     "output_type": "execute_result"
    }
   ],
   "source": [
    "fronts = tools.emo.sortLogNondominated(result, len(result))\n",
    "fronts"
   ]
  },
  {
   "cell_type": "code",
   "execution_count": null,
   "metadata": {
    "collapsed": true
   },
   "outputs": [],
   "source": []
  },
  {
   "cell_type": "code",
   "execution_count": 348,
   "metadata": {
    "collapsed": false
   },
   "outputs": [
    {
     "data": {
      "text/html": [
       "\n",
       "    <div class=\"bk-root\">\n",
       "        <a href=\"http://bokeh.pydata.org\" target=\"_blank\" class=\"bk-logo bk-logo-small bk-logo-notebook\"></a>\n",
       "        <span id=\"aa1914f2-60af-49e3-8841-430728d0bd42\">Loading BokehJS ...</span>\n",
       "    </div>"
      ]
     },
     "metadata": {},
     "output_type": "display_data"
    },
    {
     "data": {
      "application/javascript": [
       "\n",
       "(function(global) {\n",
       "  function now() {\n",
       "    return new Date();\n",
       "  }\n",
       "\n",
       "  var force = \"1\";\n",
       "\n",
       "  if (typeof (window._bokeh_onload_callbacks) === \"undefined\" || force !== \"\") {\n",
       "    window._bokeh_onload_callbacks = [];\n",
       "    window._bokeh_is_loading = undefined;\n",
       "  }\n",
       "\n",
       "  function run_callbacks() {\n",
       "    window._bokeh_onload_callbacks.forEach(function(callback) { callback() });\n",
       "    delete window._bokeh_onload_callbacks\n",
       "    console.info(\"Bokeh: all callbacks have finished\");\n",
       "  }\n",
       "\n",
       "  function load_libs(js_urls, callback) {\n",
       "    window._bokeh_onload_callbacks.push(callback);\n",
       "    if (window._bokeh_is_loading > 0) {\n",
       "      console.log(\"Bokeh: BokehJS is being loaded, scheduling callback at\", now());\n",
       "      return null;\n",
       "    }\n",
       "    if (js_urls == null || js_urls.length === 0) {\n",
       "      run_callbacks();\n",
       "      return null;\n",
       "    }\n",
       "    console.log(\"Bokeh: BokehJS not loaded, scheduling load and callback at\", now());\n",
       "    window._bokeh_is_loading = js_urls.length;\n",
       "    for (var i = 0; i < js_urls.length; i++) {\n",
       "      var url = js_urls[i];\n",
       "      var s = document.createElement('script');\n",
       "      s.src = url;\n",
       "      s.async = false;\n",
       "      s.onreadystatechange = s.onload = function() {\n",
       "        window._bokeh_is_loading--;\n",
       "        if (window._bokeh_is_loading === 0) {\n",
       "          console.log(\"Bokeh: all BokehJS libraries loaded\");\n",
       "          run_callbacks()\n",
       "        }\n",
       "      };\n",
       "      s.onerror = function() {\n",
       "        console.warn(\"failed to load library \" + url);\n",
       "      };\n",
       "      console.log(\"Bokeh: injecting script tag for BokehJS library: \", url);\n",
       "      document.getElementsByTagName(\"head\")[0].appendChild(s);\n",
       "    }\n",
       "  };\n",
       "\n",
       "  var js_urls = ['https://cdn.pydata.org/bokeh/release/bokeh-0.12.1.min.js', 'https://cdn.pydata.org/bokeh/release/bokeh-widgets-0.12.1.min.js', 'https://cdn.pydata.org/bokeh/release/bokeh-compiler-0.12.1.min.js'];\n",
       "\n",
       "  var inline_js = [\n",
       "    function(Bokeh) {\n",
       "      Bokeh.set_log_level(\"info\");\n",
       "    },\n",
       "    \n",
       "    function(Bokeh) {\n",
       "      \n",
       "      Bokeh.$(\"#aa1914f2-60af-49e3-8841-430728d0bd42\").text(\"BokehJS successfully loaded\");\n",
       "      var kernel = Jupyter.notebook.kernel\n",
       "      if (kernel.execute !== undefined) {\n",
       "          kernel.execute(\"import bokeh.io; bokeh.io._nb_loaded = True\");\n",
       "      }\n",
       "    },\n",
       "    function(Bokeh) {\n",
       "      console.log(\"Bokeh: injecting CSS: https://cdn.pydata.org/bokeh/release/bokeh-0.12.1.min.css\");\n",
       "      Bokeh.embed.inject_css(\"https://cdn.pydata.org/bokeh/release/bokeh-0.12.1.min.css\");\n",
       "      console.log(\"Bokeh: injecting CSS: https://cdn.pydata.org/bokeh/release/bokeh-widgets-0.12.1.min.css\");\n",
       "      Bokeh.embed.inject_css(\"https://cdn.pydata.org/bokeh/release/bokeh-widgets-0.12.1.min.css\");\n",
       "    }\n",
       "  ];\n",
       "\n",
       "  function run_inline_js() {\n",
       "    for (var i = 0; i < inline_js.length; i++) {\n",
       "      inline_js[i](window.Bokeh);\n",
       "    }\n",
       "  }\n",
       "\n",
       "  if (window._bokeh_is_loading === 0) {\n",
       "    console.log(\"Bokeh: BokehJS loaded, going straight to plotting\");\n",
       "    run_inline_js();\n",
       "  } else {\n",
       "    load_libs(js_urls, function() {\n",
       "      console.log(\"Bokeh: BokehJS plotting callback run at\", now());\n",
       "      run_inline_js();\n",
       "    });\n",
       "  }\n",
       "}(this));"
      ]
     },
     "metadata": {},
     "output_type": "display_data"
    }
   ],
   "source": [
    "from bokeh.plotting import figure, output_notebook, show\n",
    "from bokeh.models import HoverTool, ColumnDataSource\n",
    "from bokeh import palettes\n",
    "output_notebook()"
   ]
  },
  {
   "cell_type": "code",
   "execution_count": 349,
   "metadata": {
    "collapsed": false
   },
   "outputs": [],
   "source": [
    "def viz_front(fronts):\n",
    "    TOOLS = \"pan,wheel_zoom,box_zoom,reset,resize\"\n",
    "    hover = HoverTool(\n",
    "            tooltips=[\n",
    "                (\"index\", \"$index\"),\n",
    "                (\"(x,y)\", \"($x, $y)\"),\n",
    "                (\"individual\", \"@ind\"),\n",
    "            ]\n",
    "        )\n",
    "    front_colors = []\n",
    "    p = figure(plot_width=700, plot_height=700, tools=[TOOLS,hover], title=\"NSGAii Test\")\n",
    "\n",
    "    for i,inds in enumerate(fronts):\n",
    "        par = [(ind, toolbox.evaluate(ind)) for ind in inds]\n",
    "        source = ColumnDataSource(\n",
    "                data=dict(\n",
    "                    x= [p[1][0] for p in par],\n",
    "                    y= [p[1][1] for p in par],\n",
    "                    ind= [p[0] for p in par]\n",
    "                )\n",
    "            )\n",
    "        p.circle('x', 'y', size=10, source=source, alpha=0.7, fill_color=palettes.YlGnBu9[i], legend='Front %s'%(i+1), line_color=\"#ffffff\")\n",
    "    show(p)"
   ]
  },
  {
   "cell_type": "code",
   "execution_count": 366,
   "metadata": {
    "collapsed": false,
    "scrolled": false
   },
   "outputs": [
    {
     "data": {
      "text/html": [
       "\n",
       "\n",
       "    <div class=\"bk-root\">\n",
       "        <div class=\"plotdiv\" id=\"80ff660d-98a9-426a-8616-f895a17ffd27\"></div>\n",
       "    </div>\n",
       "<script type=\"text/javascript\">\n",
       "  \n",
       "  (function(global) {\n",
       "    function now() {\n",
       "      return new Date();\n",
       "    }\n",
       "  \n",
       "    var force = \"\";\n",
       "  \n",
       "    if (typeof (window._bokeh_onload_callbacks) === \"undefined\" || force !== \"\") {\n",
       "      window._bokeh_onload_callbacks = [];\n",
       "      window._bokeh_is_loading = undefined;\n",
       "    }\n",
       "  \n",
       "    function run_callbacks() {\n",
       "      window._bokeh_onload_callbacks.forEach(function(callback) { callback() });\n",
       "      delete window._bokeh_onload_callbacks\n",
       "      console.info(\"Bokeh: all callbacks have finished\");\n",
       "    }\n",
       "  \n",
       "    function load_libs(js_urls, callback) {\n",
       "      window._bokeh_onload_callbacks.push(callback);\n",
       "      if (window._bokeh_is_loading > 0) {\n",
       "        console.log(\"Bokeh: BokehJS is being loaded, scheduling callback at\", now());\n",
       "        return null;\n",
       "      }\n",
       "      if (js_urls == null || js_urls.length === 0) {\n",
       "        run_callbacks();\n",
       "        return null;\n",
       "      }\n",
       "      console.log(\"Bokeh: BokehJS not loaded, scheduling load and callback at\", now());\n",
       "      window._bokeh_is_loading = js_urls.length;\n",
       "      for (var i = 0; i < js_urls.length; i++) {\n",
       "        var url = js_urls[i];\n",
       "        var s = document.createElement('script');\n",
       "        s.src = url;\n",
       "        s.async = false;\n",
       "        s.onreadystatechange = s.onload = function() {\n",
       "          window._bokeh_is_loading--;\n",
       "          if (window._bokeh_is_loading === 0) {\n",
       "            console.log(\"Bokeh: all BokehJS libraries loaded\");\n",
       "            run_callbacks()\n",
       "          }\n",
       "        };\n",
       "        s.onerror = function() {\n",
       "          console.warn(\"failed to load library \" + url);\n",
       "        };\n",
       "        console.log(\"Bokeh: injecting script tag for BokehJS library: \", url);\n",
       "        document.getElementsByTagName(\"head\")[0].appendChild(s);\n",
       "      }\n",
       "    };var element = document.getElementById(\"80ff660d-98a9-426a-8616-f895a17ffd27\");\n",
       "    if (element == null) {\n",
       "      console.log(\"Bokeh: ERROR: autoload.js configured with elementid '80ff660d-98a9-426a-8616-f895a17ffd27' but no matching script tag was found. \")\n",
       "      return false;\n",
       "    }\n",
       "  \n",
       "    var js_urls = [];\n",
       "  \n",
       "    var inline_js = [\n",
       "      function(Bokeh) {\n",
       "        Bokeh.$(function() {\n",
       "            var docs_json = {\"de13375d-252d-4138-b5ac-ca62ff5df174\":{\"roots\":{\"references\":[{\"attributes\":{\"plot\":{\"id\":\"a1211d28-25e1-4c50-84c0-2704aa989db3\",\"subtype\":\"Figure\",\"type\":\"Plot\"}},\"id\":\"15381cc0-9afa-4c37-bf8e-fa0fa6cf4ade\",\"type\":\"ResetTool\"},{\"attributes\":{},\"id\":\"1f3dacf3-ab3f-459d-a36e-32e14ab47a42\",\"type\":\"ToolEvents\"},{\"attributes\":{\"fill_alpha\":{\"value\":0.7},\"fill_color\":{\"value\":\"#081d58\"},\"line_alpha\":{\"value\":0.7},\"line_color\":{\"value\":\"#ffffff\"},\"size\":{\"units\":\"screen\",\"value\":10},\"x\":{\"field\":\"x\"},\"y\":{\"field\":\"y\"}},\"id\":\"7bddf90d-ff5f-4f74-b1b1-fb68b59c9bd5\",\"type\":\"Circle\"},{\"attributes\":{},\"id\":\"bda1c834-fd79-4e4e-a1d8-657a9802b12c\",\"type\":\"BasicTicker\"},{\"attributes\":{},\"id\":\"6da72459-d7b3-4d66-af99-6c6d914656b1\",\"type\":\"BasicTickFormatter\"},{\"attributes\":{},\"id\":\"176fe194-6d7a-4e37-af8a-4a7ddd620b6d\",\"type\":\"BasicTickFormatter\"},{\"attributes\":{\"formatter\":{\"id\":\"6da72459-d7b3-4d66-af99-6c6d914656b1\",\"type\":\"BasicTickFormatter\"},\"plot\":{\"id\":\"a1211d28-25e1-4c50-84c0-2704aa989db3\",\"subtype\":\"Figure\",\"type\":\"Plot\"},\"ticker\":{\"id\":\"bda1c834-fd79-4e4e-a1d8-657a9802b12c\",\"type\":\"BasicTicker\"}},\"id\":\"e7a451e0-c66f-4d0b-9778-d3e3fb87dcc9\",\"type\":\"LinearAxis\"},{\"attributes\":{\"plot\":{\"id\":\"a1211d28-25e1-4c50-84c0-2704aa989db3\",\"subtype\":\"Figure\",\"type\":\"Plot\"}},\"id\":\"e34c2f49-63d4-41c3-8736-0494d3d4538c\",\"type\":\"ResizeTool\"},{\"attributes\":{\"bottom_units\":\"screen\",\"fill_alpha\":{\"value\":0.5},\"fill_color\":{\"value\":\"lightgrey\"},\"left_units\":\"screen\",\"level\":\"overlay\",\"line_alpha\":{\"value\":1.0},\"line_color\":{\"value\":\"black\"},\"line_dash\":[4,4],\"line_width\":{\"value\":2},\"plot\":null,\"render_mode\":\"css\",\"right_units\":\"screen\",\"top_units\":\"screen\"},\"id\":\"39ab5ce4-458f-4b18-9aab-2de7799ab2d3\",\"type\":\"BoxAnnotation\"},{\"attributes\":{\"formatter\":{\"id\":\"176fe194-6d7a-4e37-af8a-4a7ddd620b6d\",\"type\":\"BasicTickFormatter\"},\"plot\":{\"id\":\"a1211d28-25e1-4c50-84c0-2704aa989db3\",\"subtype\":\"Figure\",\"type\":\"Plot\"},\"ticker\":{\"id\":\"1ef2029a-5539-49cf-adc6-299ed411cfcc\",\"type\":\"BasicTicker\"}},\"id\":\"71def16a-dedb-4798-83a4-0c91a04ae3d3\",\"type\":\"LinearAxis\"},{\"attributes\":{\"active_drag\":\"auto\",\"active_scroll\":\"auto\",\"active_tap\":\"auto\",\"tools\":[{\"id\":\"c06f5468-0689-4bef-b730-cdc21b450af2\",\"type\":\"HoverTool\"},{\"id\":\"36288a98-07a1-4370-9800-92254fc1f039\",\"type\":\"PanTool\"},{\"id\":\"b5b1f0ce-0a72-4aa0-ab1e-3c49aee293ec\",\"type\":\"WheelZoomTool\"},{\"id\":\"197c428b-77e7-4530-a7ab-f574dc8d0721\",\"type\":\"BoxZoomTool\"},{\"id\":\"15381cc0-9afa-4c37-bf8e-fa0fa6cf4ade\",\"type\":\"ResetTool\"},{\"id\":\"e34c2f49-63d4-41c3-8736-0494d3d4538c\",\"type\":\"ResizeTool\"}]},\"id\":\"51237690-0e5c-4329-a60f-f0ef8f308d94\",\"type\":\"Toolbar\"},{\"attributes\":{\"fill_alpha\":{\"value\":0.1},\"fill_color\":{\"value\":\"#1f77b4\"},\"line_alpha\":{\"value\":0.1},\"line_color\":{\"value\":\"#1f77b4\"},\"size\":{\"units\":\"screen\",\"value\":10},\"x\":{\"field\":\"x\"},\"y\":{\"field\":\"y\"}},\"id\":\"4b2d0f64-a53f-462c-83e6-e530f63fbfc3\",\"type\":\"Circle\"},{\"attributes\":{\"callback\":null},\"id\":\"3c6aafaf-305d-4688-b4e5-23165bd86ff0\",\"type\":\"DataRange1d\"},{\"attributes\":{\"plot\":null,\"text\":\"NSGAii Test\"},\"id\":\"3251b082-7287-4425-a7ef-c3da8e719e1b\",\"type\":\"Title\"},{\"attributes\":{\"overlay\":{\"id\":\"39ab5ce4-458f-4b18-9aab-2de7799ab2d3\",\"type\":\"BoxAnnotation\"},\"plot\":{\"id\":\"a1211d28-25e1-4c50-84c0-2704aa989db3\",\"subtype\":\"Figure\",\"type\":\"Plot\"}},\"id\":\"197c428b-77e7-4530-a7ab-f574dc8d0721\",\"type\":\"BoxZoomTool\"},{\"attributes\":{\"dimension\":1,\"plot\":{\"id\":\"a1211d28-25e1-4c50-84c0-2704aa989db3\",\"subtype\":\"Figure\",\"type\":\"Plot\"},\"ticker\":{\"id\":\"1ef2029a-5539-49cf-adc6-299ed411cfcc\",\"type\":\"BasicTicker\"}},\"id\":\"2b6f0edf-1f1f-4daf-8874-f427d48e4bdf\",\"type\":\"Grid\"},{\"attributes\":{\"plot\":{\"id\":\"a1211d28-25e1-4c50-84c0-2704aa989db3\",\"subtype\":\"Figure\",\"type\":\"Plot\"},\"ticker\":{\"id\":\"bda1c834-fd79-4e4e-a1d8-657a9802b12c\",\"type\":\"BasicTicker\"}},\"id\":\"449355af-609a-4565-9325-72297502b65f\",\"type\":\"Grid\"},{\"attributes\":{\"callback\":null,\"plot\":{\"id\":\"a1211d28-25e1-4c50-84c0-2704aa989db3\",\"subtype\":\"Figure\",\"type\":\"Plot\"},\"tooltips\":[[\"index\",\"$index\"],[\"(x,y)\",\"($x, $y)\"],[\"individual\",\"@ind\"]]},\"id\":\"c06f5468-0689-4bef-b730-cdc21b450af2\",\"type\":\"HoverTool\"},{\"attributes\":{\"plot\":{\"id\":\"a1211d28-25e1-4c50-84c0-2704aa989db3\",\"subtype\":\"Figure\",\"type\":\"Plot\"}},\"id\":\"36288a98-07a1-4370-9800-92254fc1f039\",\"type\":\"PanTool\"},{\"attributes\":{\"plot\":{\"id\":\"a1211d28-25e1-4c50-84c0-2704aa989db3\",\"subtype\":\"Figure\",\"type\":\"Plot\"}},\"id\":\"b5b1f0ce-0a72-4aa0-ab1e-3c49aee293ec\",\"type\":\"WheelZoomTool\"},{\"attributes\":{\"callback\":null,\"column_names\":[\"ind\",\"y\",\"x\"],\"data\":{\"ind\":[[26,25,0,6,7],[26,25,0,6,7],[13,2,3,25,26],[13,2,3,25,26],[13,2,3,25,26],[13,2,3,25,26],[13,2,3,25,26],[16,7,0,25,26],[16,7,0,25,26],[13,7,0,25,26],[13,7,0,25,26],[13,14,3,25,26],[13,14,3,25,26],[13,14,3,25,26],[13,14,3,25,26],[13,14,3,25,26],[13,14,3,25,26],[13,14,3,25,26],[13,14,3,25,26],[13,14,3,25,26],[13,14,3,25,26],[13,14,3,25,26],[13,14,3,25,26],[13,14,3,25,26],[13,14,3,25,26],[13,14,3,25,26],[13,14,3,25,26],[13,14,3,25,26],[13,14,3,25,26],[13,14,3,25,26],[13,14,3,25,26],[13,14,3,25,26],[13,14,3,25,26],[13,14,3,25,26],[13,14,3,25,26],[13,14,3,25,26],[13,14,3,25,26],[13,14,3,25,26],[13,14,3,25,26],[13,14,3,25,26],[13,14,3,25,26],[13,14,3,25,26],[13,14,3,25,26],[13,14,3,25,26],[13,14,3,25,26],[13,14,3,25,26],[13,14,3,25,26],[13,14,3,25,26],[13,14,3,25,26],[13,14,3,25,26],[13,14,3,25,26],[13,14,3,25,26],[13,14,3,25,26],[13,14,3,25,26],[13,14,3,25,26],[13,14,3,25,26],[13,14,3,25,26],[13,14,3,25,26],[13,14,3,25,26],[13,14,3,25,26],[13,14,3,25,26],[13,14,3,25,26],[13,14,3,25,26],[13,14,3,25,26],[13,14,3,25,26],[13,14,3,25,26],[13,14,3,25,26],[13,14,3,25,26],[13,14,3,25,26],[13,14,3,25,26],[13,14,3,25,26],[13,14,3,25,26],[13,14,3,25,26],[13,14,3,25,26],[13,14,3,25,26],[13,14,3,25,26],[13,14,3,25,26],[13,14,3,25,26],[13,14,3,25,26],[13,14,3,25,26],[13,14,3,25,26],[13,14,3,25,26],[13,14,3,25,26],[13,14,3,25,26],[13,14,3,25,26],[13,14,3,25,26],[13,14,3,25,26],[13,14,3,25,26],[13,14,3,25,26],[13,14,3,25,26],[13,14,3,25,26],[13,14,3,25,26],[13,14,3,25,26],[13,14,3,25,26],[13,14,3,25,26],[13,14,3,25,26],[26,25,7,13,14],[26,25,7,13,14],[73,25,26,13,14],[73,25,26,13,14]],\"x\":[2.8339269365500295,2.8339269365500295,3.6123030997292958,3.6123030997292958,3.6123030997292958,3.6123030997292958,3.6123030997292958,3.7131661497246724,3.7131661497246724,3.7798600769597486,3.7798600769597486,5.001034716621494,5.001034716621494,5.001034716621494,5.001034716621494,5.001034716621494,5.001034716621494,5.001034716621494,5.001034716621494,5.001034716621494,5.001034716621494,5.001034716621494,5.001034716621494,5.001034716621494,5.001034716621494,5.001034716621494,5.001034716621494,5.001034716621494,5.001034716621494,5.001034716621494,5.001034716621494,5.001034716621494,5.001034716621494,5.001034716621494,5.001034716621494,5.001034716621494,5.001034716621494,5.001034716621494,5.001034716621494,5.001034716621494,5.001034716621494,5.001034716621494,5.001034716621494,5.001034716621494,5.001034716621494,5.001034716621494,5.001034716621494,5.001034716621494,5.001034716621494,5.001034716621494,5.001034716621494,5.001034716621494,5.001034716621494,5.001034716621494,5.001034716621494,5.001034716621494,5.001034716621494,5.001034716621494,5.001034716621494,5.001034716621494,5.001034716621494,5.001034716621494,5.001034716621494,5.001034716621494,5.001034716621494,5.001034716621494,5.001034716621494,5.001034716621494,5.001034716621494,5.001034716621494,5.001034716621494,5.001034716621494,5.001034716621494,5.001034716621494,5.001034716621494,5.001034716621494,5.001034716621494,5.001034716621494,5.001034716621494,5.001034716621494,5.001034716621494,5.001034716621494,5.001034716621494,5.001034716621494,5.001034716621494,5.001034716621494,5.001034716621494,5.001034716621494,5.001034716621494,5.001034716621494,5.001034716621494,5.001034716621494,5.001034716621494,5.001034716621494,5.001034716621494,5.001034716621494,5.477786922307644,5.477786922307644,8.789777175220761,8.789777175220761],\"y\":[409,409,437,437,437,437,437,438,438,472,472,481,481,481,481,481,481,481,481,481,481,481,481,481,481,481,481,481,481,481,481,481,481,481,481,481,481,481,481,481,481,481,481,481,481,481,481,481,481,481,481,481,481,481,481,481,481,481,481,481,481,481,481,481,481,481,481,481,481,481,481,481,481,481,481,481,481,481,481,481,481,481,481,481,481,481,481,481,481,481,481,481,481,481,481,481,491,491,492,492]}},\"id\":\"0728925f-558d-40e5-9cbf-88270f383549\",\"type\":\"ColumnDataSource\"},{\"attributes\":{\"data_source\":{\"id\":\"0728925f-558d-40e5-9cbf-88270f383549\",\"type\":\"ColumnDataSource\"},\"glyph\":{\"id\":\"7bddf90d-ff5f-4f74-b1b1-fb68b59c9bd5\",\"type\":\"Circle\"},\"hover_glyph\":null,\"nonselection_glyph\":{\"id\":\"4b2d0f64-a53f-462c-83e6-e530f63fbfc3\",\"type\":\"Circle\"},\"selection_glyph\":null},\"id\":\"37e64c5c-4879-4e05-afce-4cbe549237fe\",\"type\":\"GlyphRenderer\"},{\"attributes\":{\"legends\":[[\"Front 1\",[{\"id\":\"37e64c5c-4879-4e05-afce-4cbe549237fe\",\"type\":\"GlyphRenderer\"}]]],\"plot\":{\"id\":\"a1211d28-25e1-4c50-84c0-2704aa989db3\",\"subtype\":\"Figure\",\"type\":\"Plot\"}},\"id\":\"53fab1fb-5eaf-4a97-952d-1ceabaf45c41\",\"type\":\"Legend\"},{\"attributes\":{},\"id\":\"1ef2029a-5539-49cf-adc6-299ed411cfcc\",\"type\":\"BasicTicker\"},{\"attributes\":{\"below\":[{\"id\":\"e7a451e0-c66f-4d0b-9778-d3e3fb87dcc9\",\"type\":\"LinearAxis\"}],\"left\":[{\"id\":\"71def16a-dedb-4798-83a4-0c91a04ae3d3\",\"type\":\"LinearAxis\"}],\"plot_height\":700,\"plot_width\":700,\"renderers\":[{\"id\":\"e7a451e0-c66f-4d0b-9778-d3e3fb87dcc9\",\"type\":\"LinearAxis\"},{\"id\":\"449355af-609a-4565-9325-72297502b65f\",\"type\":\"Grid\"},{\"id\":\"71def16a-dedb-4798-83a4-0c91a04ae3d3\",\"type\":\"LinearAxis\"},{\"id\":\"2b6f0edf-1f1f-4daf-8874-f427d48e4bdf\",\"type\":\"Grid\"},{\"id\":\"39ab5ce4-458f-4b18-9aab-2de7799ab2d3\",\"type\":\"BoxAnnotation\"},{\"id\":\"53fab1fb-5eaf-4a97-952d-1ceabaf45c41\",\"type\":\"Legend\"},{\"id\":\"37e64c5c-4879-4e05-afce-4cbe549237fe\",\"type\":\"GlyphRenderer\"}],\"title\":{\"id\":\"3251b082-7287-4425-a7ef-c3da8e719e1b\",\"type\":\"Title\"},\"tool_events\":{\"id\":\"1f3dacf3-ab3f-459d-a36e-32e14ab47a42\",\"type\":\"ToolEvents\"},\"toolbar\":{\"id\":\"51237690-0e5c-4329-a60f-f0ef8f308d94\",\"type\":\"Toolbar\"},\"x_range\":{\"id\":\"3c6aafaf-305d-4688-b4e5-23165bd86ff0\",\"type\":\"DataRange1d\"},\"y_range\":{\"id\":\"b5da6067-6577-4c48-879c-1bd3f06f636d\",\"type\":\"DataRange1d\"}},\"id\":\"a1211d28-25e1-4c50-84c0-2704aa989db3\",\"subtype\":\"Figure\",\"type\":\"Plot\"},{\"attributes\":{\"callback\":null},\"id\":\"b5da6067-6577-4c48-879c-1bd3f06f636d\",\"type\":\"DataRange1d\"}],\"root_ids\":[\"a1211d28-25e1-4c50-84c0-2704aa989db3\"]},\"title\":\"Bokeh Application\",\"version\":\"0.12.1\"}};\n",
       "            var render_items = [{\"docid\":\"de13375d-252d-4138-b5ac-ca62ff5df174\",\"elementid\":\"80ff660d-98a9-426a-8616-f895a17ffd27\",\"modelid\":\"a1211d28-25e1-4c50-84c0-2704aa989db3\",\"notebook_comms_target\":\"38eeb80d-08ce-4ddc-a7d2-6da21624f662\"}];\n",
       "            \n",
       "            Bokeh.embed.embed_items(docs_json, render_items);\n",
       "        });\n",
       "      },\n",
       "      function(Bokeh) {\n",
       "      }\n",
       "    ];\n",
       "  \n",
       "    function run_inline_js() {\n",
       "      for (var i = 0; i < inline_js.length; i++) {\n",
       "        inline_js[i](window.Bokeh);\n",
       "      }\n",
       "    }\n",
       "  \n",
       "    if (window._bokeh_is_loading === 0) {\n",
       "      console.log(\"Bokeh: BokehJS loaded, going straight to plotting\");\n",
       "      run_inline_js();\n",
       "    } else {\n",
       "      load_libs(js_urls, function() {\n",
       "        console.log(\"Bokeh: BokehJS plotting callback run at\", now());\n",
       "        run_inline_js();\n",
       "      });\n",
       "    }\n",
       "  }(this));\n",
       "</script>"
      ]
     },
     "metadata": {},
     "output_type": "display_data"
    }
   ],
   "source": [
    "viz_front(fronts)"
   ]
  },
  {
   "cell_type": "code",
   "execution_count": 372,
   "metadata": {
    "collapsed": false
   },
   "outputs": [
    {
     "data": {
      "text/plain": [
       "[26, 25, 0, 6, 7]"
      ]
     },
     "execution_count": 372,
     "metadata": {},
     "output_type": "execute_result"
    }
   ],
   "source": [
    "fronts[0][0] # One of the Obtimal Solution"
   ]
  },
  {
   "cell_type": "code",
   "execution_count": 369,
   "metadata": {
    "collapsed": false
   },
   "outputs": [
    {
     "data": {
      "text/html": [
       "<div>\n",
       "<table border=\"1\" class=\"dataframe\">\n",
       "  <thead>\n",
       "    <tr style=\"text-align: right;\">\n",
       "      <th></th>\n",
       "      <th>street_ko</th>\n",
       "      <th>street_en</th>\n",
       "      <th>address</th>\n",
       "      <th>dong_ko</th>\n",
       "      <th>dong_en</th>\n",
       "      <th>lng</th>\n",
       "      <th>lat</th>\n",
       "      <th>score</th>\n",
       "    </tr>\n",
       "  </thead>\n",
       "  <tbody>\n",
       "    <tr>\n",
       "      <th>26</th>\n",
       "      <td>이태원거리</td>\n",
       "      <td>Itaewon street</td>\n",
       "      <td>서울시 용산구 이태원1동 일대</td>\n",
       "      <td>이태원1동</td>\n",
       "      <td>Itaewon2-dong</td>\n",
       "      <td>126.991704</td>\n",
       "      <td>37.538994</td>\n",
       "      <td>99</td>\n",
       "    </tr>\n",
       "    <tr>\n",
       "      <th>25</th>\n",
       "      <td>경리단길</td>\n",
       "      <td>Finance corps street</td>\n",
       "      <td>서울시 용산구 이태원2동 일대</td>\n",
       "      <td>이태원2동</td>\n",
       "      <td>Itaewon2-dong</td>\n",
       "      <td>126.991664</td>\n",
       "      <td>37.539718</td>\n",
       "      <td>99</td>\n",
       "    </tr>\n",
       "    <tr>\n",
       "      <th>0</th>\n",
       "      <td>남대문거리</td>\n",
       "      <td>fishing-tackle street</td>\n",
       "      <td>서울시 중구 회현동 일대</td>\n",
       "      <td>회현동</td>\n",
       "      <td>Hoehyeon-dong</td>\n",
       "      <td>126.977432</td>\n",
       "      <td>37.558050</td>\n",
       "      <td>80</td>\n",
       "    </tr>\n",
       "    <tr>\n",
       "      <th>6</th>\n",
       "      <td>돌담길</td>\n",
       "      <td>Doldam-gil</td>\n",
       "      <td>서울시 중구 소공동 일대</td>\n",
       "      <td>소공동</td>\n",
       "      <td>Sogong-dong</td>\n",
       "      <td>126.979934</td>\n",
       "      <td>37.564130</td>\n",
       "      <td>34</td>\n",
       "    </tr>\n",
       "    <tr>\n",
       "      <th>7</th>\n",
       "      <td>명동거리</td>\n",
       "      <td>Myeong-dong street</td>\n",
       "      <td>서울시 중구 명동 일대</td>\n",
       "      <td>명동</td>\n",
       "      <td>Myeong-dong</td>\n",
       "      <td>126.978819</td>\n",
       "      <td>37.568059</td>\n",
       "      <td>97</td>\n",
       "    </tr>\n",
       "  </tbody>\n",
       "</table>\n",
       "</div>"
      ],
      "text/plain": [
       "   street_ko              street_en           address dong_ko        dong_en  \\\n",
       "26     이태원거리         Itaewon street  서울시 용산구 이태원1동 일대   이태원1동  Itaewon2-dong   \n",
       "25      경리단길   Finance corps street  서울시 용산구 이태원2동 일대   이태원2동  Itaewon2-dong   \n",
       "0      남대문거리  fishing-tackle street     서울시 중구 회현동 일대     회현동  Hoehyeon-dong   \n",
       "6        돌담길             Doldam-gil     서울시 중구 소공동 일대     소공동    Sogong-dong   \n",
       "7       명동거리     Myeong-dong street      서울시 중구 명동 일대      명동    Myeong-dong   \n",
       "\n",
       "           lng        lat  score  \n",
       "26  126.991704  37.538994     99  \n",
       "25  126.991664  37.539718     99  \n",
       "0   126.977432  37.558050     80  \n",
       "6   126.979934  37.564130     34  \n",
       "7   126.978819  37.568059     97  "
      ]
     },
     "execution_count": 369,
     "metadata": {},
     "output_type": "execute_result"
    }
   ],
   "source": [
    "df_spot.ix[fronts[0][0]] # Information of that solution"
   ]
  },
  {
   "cell_type": "code",
   "execution_count": null,
   "metadata": {
    "collapsed": true
   },
   "outputs": [],
   "source": []
  },
  {
   "cell_type": "code",
   "execution_count": 362,
   "metadata": {
    "collapsed": false
   },
   "outputs": [
    {
     "name": "stdout",
     "output_type": "stream",
     "text": [
      "(8.789777175220761, 492)\n"
     ]
    },
    {
     "data": {
      "text/html": [
       "<div style=\"width:100%;\"><div style=\"position:relative;width:100%;height:0;padding-bottom:60%;\"><iframe src=\"data:text/html;base64,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\" style=\"position:absolute;width:100%;height:100%;left:0;top:0;\"></iframe></div></div>"
      ],
      "text/plain": [
       "<folium.folium.Map at 0x1093c2a20>"
      ]
     },
     "execution_count": 362,
     "metadata": {},
     "output_type": "execute_result"
    }
   ],
   "source": [
    "print(eval_func(fronts[0][99])) # Higher score but Longer distance\n",
    "plot_tour(fronts[0][99])"
   ]
  },
  {
   "cell_type": "code",
   "execution_count": 363,
   "metadata": {
    "collapsed": false
   },
   "outputs": [
    {
     "name": "stdout",
     "output_type": "stream",
     "text": [
      "(2.8339269365500295, 409)\n"
     ]
    },
    {
     "data": {
      "text/html": [
       "<div style=\"width:100%;\"><div style=\"position:relative;width:100%;height:0;padding-bottom:60%;\"><iframe src=\"data:text/html;base64,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\" style=\"position:absolute;width:100%;height:100%;left:0;top:0;\"></iframe></div></div>"
      ],
      "text/plain": [
       "<folium.folium.Map at 0x108d4b898>"
      ]
     },
     "execution_count": 363,
     "metadata": {},
     "output_type": "execute_result"
    }
   ],
   "source": [
    "print(eval_func(fronts[0][0]))  # Shorter distance but Lower score\n",
    "plot_tour(fronts[0][0])"
   ]
  },
  {
   "cell_type": "code",
   "execution_count": null,
   "metadata": {
    "collapsed": false
   },
   "outputs": [],
   "source": []
  },
  {
   "cell_type": "code",
   "execution_count": null,
   "metadata": {
    "collapsed": false
   },
   "outputs": [],
   "source": []
  },
  {
   "cell_type": "code",
   "execution_count": null,
   "metadata": {
    "collapsed": true
   },
   "outputs": [],
   "source": []
  }
 ],
 "metadata": {
  "anaconda-cloud": {},
  "kernelspec": {
   "display_name": "Python 3",
   "language": "python",
   "name": "python3"
  },
  "language_info": {
   "codemirror_mode": {
    "name": "ipython",
    "version": 3
   },
   "file_extension": ".py",
   "mimetype": "text/x-python",
   "name": "python",
   "nbconvert_exporter": "python",
   "pygments_lexer": "ipython3",
   "version": "3.5.0"
  }
 },
 "nbformat": 4,
 "nbformat_minor": 0
}
